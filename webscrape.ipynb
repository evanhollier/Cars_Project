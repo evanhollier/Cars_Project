{
 "cells": [
  {
   "cell_type": "code",
   "execution_count": 1,
   "id": "e42ed364",
   "metadata": {},
   "outputs": [],
   "source": [
    "import selenium\n",
    "from selenium import webdriver\n",
    "from selenium.webdriver.common.by import By\n",
    "from selenium.webdriver.chrome.service import Service\n",
    "from selenium.webdriver.chrome.options import Options\n",
    "import pandas as pd\n",
    "import csv"
   ]
  },
  {
   "cell_type": "code",
   "execution_count": 12,
   "id": "8d1f27f9",
   "metadata": {},
   "outputs": [],
   "source": [
    "# Initialize blank.csv with header. Only needed when cars.csv doesn't exist.\n",
    "# Separate from cars.csv so it doesn't get accidently overwritten.\n",
    "# Rename to cars.csv if it doesn't exist.\n",
    "columns = [\n",
    "    \"link\",\n",
    "    \"listing_title\",\n",
    "    \"listing_mileage\",\n",
    "    \"primary_price\",\n",
    "    \"deal_gauge\",\n",
    "    \"exterior_color\",\n",
    "    \"interior_color\",\n",
    "    \"drivetrain\",\n",
    "    \"mpg\",\n",
    "    \"fuel_type\",\n",
    "    \"transmission\",\n",
    "    \"engine\",\n",
    "    \"vin\",\n",
    "    \"stock_number\",\n",
    "    \"mileage\",\n",
    "    \"entertainment\",\n",
    "    \"exterior\",\n",
    "    \"safety\",\n",
    "    \"additional_popular_features\",\n",
    "    \"accidents_or_damage\",\n",
    "    \"1_owner_vehicle\",\n",
    "    \"personal_use_only\",\n",
    "    \"open_recall\",\n",
    "    \"seller_name\",\n",
    "    \"seller_rating\",\n",
    "    \"seller_ratings_count\",\n",
    "    \"sellers_notes\",\n",
    "    \"consumer_rating_comfort\",\n",
    "    \"consumer_rating_interior\",\n",
    "    \"consumer_rating_performance\",\n",
    "    \"consumer_rating_value\",\n",
    "    \"consumer_rating_exterior\",\n",
    "    \"consumer_rating_reliability\",\n",
    "    \"consumer_ratings_count\"\n",
    "]\n",
    "\n",
    "file_path = \"blank.csv\"\n",
    "with open(file_path, \"w\", newline=\"\") as csvfile:\n",
    "    writer = csv.writer(csvfile)\n",
    "    writer.writerow(columns)"
   ]
  },
  {
   "cell_type": "code",
   "execution_count": 2,
   "id": "0bb8c44d",
   "metadata": {},
   "outputs": [],
   "source": [
    "df = pd.read_csv(\"cars.csv\")"
   ]
  },
  {
   "cell_type": "code",
   "execution_count": null,
   "id": "c0b91c4a",
   "metadata": {},
   "outputs": [],
   "source": [
    "# Create a Selenium WebDriver\n",
    "chrome_service = Service(executable_path='tools1_env/bin/chromedriver')\n",
    "chrome_options = Options()\n",
    "chrome_options.add_argument(\"user-agent=Mozilla/5.0 (Windows NT 10.0; Win64; x64) AppleWebKit/537.36 (KHTML, like Gecko) Chrome/58.0.3029.110 Safari/537.36\")\n",
    "#chrome_options.add_argument(\"--headless\") # Run without GUI\n",
    "driver = webdriver.Chrome(options=chrome_options)\n",
    "\n",
    "# Define the starting URL\n",
    "listing_num = len(df) // 20 + 1\n",
    "base_url = f\"https://www.cars.com/shopping/results/?page_size=20&page={listing_num}&maximum_distance=10&sort=listed_at&zip=80210\"\n",
    "# Logic of code relies on: sort=listed_at (\"Oldest listed\") and page_size=20.\n",
    "# maximum_distance and zip should be consistent for data integrity.\n",
    "driver.get(base_url)"
   ]
  },
  {
   "cell_type": "markdown",
   "id": "604f2e06",
   "metadata": {},
   "source": [
    "Webdriver starts on search page sorted by oldest first.\n",
    "Dataframe reads from csv, then appends new data.\n",
    "Duplicates will need to be removed after scraping."
   ]
  }
 ],
 "metadata": {
  "kernelspec": {
   "display_name": "Python 3 (ipykernel)",
   "language": "python",
   "name": "python3"
  },
  "language_info": {
   "codemirror_mode": {
    "name": "ipython",
    "version": 3
   },
   "file_extension": ".py",
   "mimetype": "text/x-python",
   "name": "python",
   "nbconvert_exporter": "python",
   "pygments_lexer": "ipython3",
   "version": "3.10.12"
  }
 },
 "nbformat": 4,
 "nbformat_minor": 5
}

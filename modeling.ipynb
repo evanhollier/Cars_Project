{
 "cells": [
  {
   "cell_type": "code",
   "execution_count": 2,
   "metadata": {},
   "outputs": [],
   "source": [
    "import datetime as dt\n",
    "import ast\n",
    "import json\n",
    "from collections import Counter\n",
    "\n",
    "import numpy as np\n",
    "import pandas as pd\n",
    "import string\n",
    "import re\n",
    "\n",
    "import matplotlib.pyplot as plt\n",
    "import seaborn as sns\n",
    "%matplotlib inline\n",
    "\n",
    "import tensorflow as tf\n",
    "from tensorflow import keras\n",
    "import pandas as pd\n",
    "import torch\n",
    "import torch.nn as nn\n",
    "import torch.optim as optim\n",
    "from torch.utils.data import DataLoader, TensorDataset\n",
    "from sklearn.preprocessing import StandardScaler\n",
    "import numpy as np\n",
    "import matplotlib.pyplot as plt\n",
    "from keras.models import Sequential, Model\n",
    "from keras.layers import Input, Embedding, Flatten, Dense, concatenate\n",
    "from sklearn.model_selection import train_test_split\n",
    "from sklearn.linear_model import LinearRegression\n",
    "from sklearn.metrics import mean_squared_error, r2_score\n",
    "from sklearn.metrics import mean_absolute_error, mean_squared_error\n",
    "from sklearn.metrics import mean_absolute_error, mean_squared_error, r2_score\n",
    "#import statsmodels.api as sm"
   ]
  },
  {
   "cell_type": "code",
   "execution_count": 3,
   "metadata": {},
   "outputs": [],
   "source": [
    "df = pd.read_csv('new_cars.csv')"
   ]
  },
  {
   "cell_type": "code",
   "execution_count": 4,
   "metadata": {},
   "outputs": [],
   "source": [
    "### Drop unncessary columns\n",
    "columns_to_drop = ['link', 'stock_number', 'vin', 'deal_gauge', 'exterior_color', 'mpg', 'fuel_type', 'engine', 'price_history', 'vehicle_history', 'listing_title', 'interior_color', 'Open recall', 'Accidents or damage']\n",
    "# add interior_color back once normalized\n",
    "# add Open recall back once cleaned\n",
    "# add Accidents or damage back once cleaned\n",
    "df = df.drop(columns=columns_to_drop)"
   ]
  },
  {
   "cell_type": "code",
   "execution_count": 5,
   "metadata": {},
   "outputs": [],
   "source": [
    "### Convert data types\n",
    "boolean_columns = ['1-owner vehicle', 'Personal use only', 'Clean title']\n",
    "\n",
    "for column in boolean_columns:\n",
    "    df[column] = df[column].map({'Yes': True, 'No': False}).astype(bool)"
   ]
  },
  {
   "cell_type": "code",
   "execution_count": 6,
   "metadata": {},
   "outputs": [
    {
     "name": "stdout",
     "output_type": "stream",
     "text": [
      "seller_name                  45\n",
      "listed_date                1523\n",
      "price_change               1523\n",
      "price_change_percentage    1523\n",
      "Cylinders                    74\n",
      "Liters                      106\n",
      "exterior_color_1            243\n",
      "exterior_color_2           5990\n",
      "low mpg                     427\n",
      "high mpg                    427\n",
      "dtype: int64\n"
     ]
    }
   ],
   "source": [
    "# Check for NAs\n",
    "missing_counts = df.isna().sum()\n",
    "print(missing_counts[missing_counts > 0])"
   ]
  },
  {
   "cell_type": "code",
   "execution_count": 7,
   "metadata": {},
   "outputs": [],
   "source": [
    "# Drop rows with a low number of missing values\n",
    "columns_with_missing_values = ['seller_name', 'Cylinders', 'Liters', 'exterior_color_1', 'low mpg', 'high mpg']\n",
    "df = df.dropna(subset=columns_with_missing_values)\n",
    "\n",
    "# Drop exterior_color_2 since it only has 12 values\n",
    "df = df.drop(columns=['exterior_color_2'])"
   ]
  },
  {
   "cell_type": "code",
   "execution_count": 8,
   "metadata": {},
   "outputs": [
    {
     "data": {
      "text/html": [
       "<div>\n",
       "<style scoped>\n",
       "    .dataframe tbody tr th:only-of-type {\n",
       "        vertical-align: middle;\n",
       "    }\n",
       "\n",
       "    .dataframe tbody tr th {\n",
       "        vertical-align: top;\n",
       "    }\n",
       "\n",
       "    .dataframe thead th {\n",
       "        text-align: right;\n",
       "    }\n",
       "</style>\n",
       "<table border=\"1\" class=\"dataframe\">\n",
       "  <thead>\n",
       "    <tr style=\"text-align: right;\">\n",
       "      <th></th>\n",
       "      <th>listing_mileage</th>\n",
       "      <th>primary_price</th>\n",
       "      <th>drivetrain</th>\n",
       "      <th>transmission</th>\n",
       "      <th>seller_name</th>\n",
       "      <th>1-owner vehicle</th>\n",
       "      <th>Personal use only</th>\n",
       "      <th>Clean title</th>\n",
       "      <th>year</th>\n",
       "      <th>make</th>\n",
       "      <th>model</th>\n",
       "      <th>price_change</th>\n",
       "      <th>price_change_percentage</th>\n",
       "      <th>Cylinders</th>\n",
       "      <th>Liters</th>\n",
       "      <th>Boosted</th>\n",
       "      <th>exterior_color_1</th>\n",
       "      <th>low mpg</th>\n",
       "      <th>high mpg</th>\n",
       "      <th>Days Avaliable</th>\n",
       "    </tr>\n",
       "  </thead>\n",
       "  <tbody>\n",
       "    <tr>\n",
       "      <th>0</th>\n",
       "      <td>79497</td>\n",
       "      <td>17899</td>\n",
       "      <td>Front-wheel Drive</td>\n",
       "      <td>6-Speed Automatic</td>\n",
       "      <td>ETHIO Motors</td>\n",
       "      <td>True</td>\n",
       "      <td>False</td>\n",
       "      <td>True</td>\n",
       "      <td>2018</td>\n",
       "      <td>Hyundai</td>\n",
       "      <td>Santa Fe Sport 2.4L</td>\n",
       "      <td>-2400.0</td>\n",
       "      <td>-11.823243</td>\n",
       "      <td>4.0</td>\n",
       "      <td>2.4</td>\n",
       "      <td>False</td>\n",
       "      <td>blue</td>\n",
       "      <td>21.0</td>\n",
       "      <td>27.0</td>\n",
       "      <td>785.0</td>\n",
       "    </tr>\n",
       "    <tr>\n",
       "      <th>1</th>\n",
       "      <td>80326</td>\n",
       "      <td>27900</td>\n",
       "      <td>Four-wheel Drive</td>\n",
       "      <td>8-Speed Automatic</td>\n",
       "      <td>Custom Cars West</td>\n",
       "      <td>False</td>\n",
       "      <td>True</td>\n",
       "      <td>True</td>\n",
       "      <td>2017</td>\n",
       "      <td>RAM</td>\n",
       "      <td>1500 Express</td>\n",
       "      <td>-3085.0</td>\n",
       "      <td>-9.956431</td>\n",
       "      <td>8.0</td>\n",
       "      <td>5.7</td>\n",
       "      <td>False</td>\n",
       "      <td>silver</td>\n",
       "      <td>16.0</td>\n",
       "      <td>23.0</td>\n",
       "      <td>610.0</td>\n",
       "    </tr>\n",
       "    <tr>\n",
       "      <th>2</th>\n",
       "      <td>92959</td>\n",
       "      <td>18950</td>\n",
       "      <td>Front-wheel Drive</td>\n",
       "      <td>Automatic CVT</td>\n",
       "      <td>Custom Cars West</td>\n",
       "      <td>False</td>\n",
       "      <td>True</td>\n",
       "      <td>True</td>\n",
       "      <td>2019</td>\n",
       "      <td>Nissan</td>\n",
       "      <td>Kicks SR</td>\n",
       "      <td>-1030.0</td>\n",
       "      <td>-5.155155</td>\n",
       "      <td>4.0</td>\n",
       "      <td>1.6</td>\n",
       "      <td>False</td>\n",
       "      <td>orange</td>\n",
       "      <td>31.0</td>\n",
       "      <td>36.0</td>\n",
       "      <td>578.0</td>\n",
       "    </tr>\n",
       "    <tr>\n",
       "      <th>3</th>\n",
       "      <td>59176</td>\n",
       "      <td>39950</td>\n",
       "      <td>Four-wheel Drive</td>\n",
       "      <td>8-Speed Automatic</td>\n",
       "      <td>Custom Cars West</td>\n",
       "      <td>False</td>\n",
       "      <td>False</td>\n",
       "      <td>True</td>\n",
       "      <td>2019</td>\n",
       "      <td>RAM</td>\n",
       "      <td>1500 Laramie</td>\n",
       "      <td>-573.0</td>\n",
       "      <td>-1.414012</td>\n",
       "      <td>8.0</td>\n",
       "      <td>5.7</td>\n",
       "      <td>False</td>\n",
       "      <td>gray</td>\n",
       "      <td>19.0</td>\n",
       "      <td>24.0</td>\n",
       "      <td>532.0</td>\n",
       "    </tr>\n",
       "    <tr>\n",
       "      <th>4</th>\n",
       "      <td>135385</td>\n",
       "      <td>26950</td>\n",
       "      <td>Four-wheel Drive</td>\n",
       "      <td>-</td>\n",
       "      <td>Custom Cars West</td>\n",
       "      <td>False</td>\n",
       "      <td>True</td>\n",
       "      <td>True</td>\n",
       "      <td>2015</td>\n",
       "      <td>Jeep</td>\n",
       "      <td>Wrangler Unlimited Rubicon</td>\n",
       "      <td>-3000.0</td>\n",
       "      <td>-10.016694</td>\n",
       "      <td>6.0</td>\n",
       "      <td>3.6</td>\n",
       "      <td>False</td>\n",
       "      <td>blue</td>\n",
       "      <td>16.0</td>\n",
       "      <td>21.0</td>\n",
       "      <td>663.0</td>\n",
       "    </tr>\n",
       "  </tbody>\n",
       "</table>\n",
       "</div>"
      ],
      "text/plain": [
       "   listing_mileage  primary_price         drivetrain       transmission  \\\n",
       "0            79497          17899  Front-wheel Drive  6-Speed Automatic   \n",
       "1            80326          27900   Four-wheel Drive  8-Speed Automatic   \n",
       "2            92959          18950  Front-wheel Drive      Automatic CVT   \n",
       "3            59176          39950   Four-wheel Drive  8-Speed Automatic   \n",
       "4           135385          26950   Four-wheel Drive                  -   \n",
       "\n",
       "        seller_name  1-owner vehicle  Personal use only  Clean title  year  \\\n",
       "0      ETHIO Motors             True              False         True  2018   \n",
       "1  Custom Cars West            False               True         True  2017   \n",
       "2  Custom Cars West            False               True         True  2019   \n",
       "3  Custom Cars West            False              False         True  2019   \n",
       "4  Custom Cars West            False               True         True  2015   \n",
       "\n",
       "      make                       model  price_change  price_change_percentage  \\\n",
       "0  Hyundai         Santa Fe Sport 2.4L       -2400.0               -11.823243   \n",
       "1      RAM                1500 Express       -3085.0                -9.956431   \n",
       "2   Nissan                    Kicks SR       -1030.0                -5.155155   \n",
       "3      RAM                1500 Laramie        -573.0                -1.414012   \n",
       "4     Jeep  Wrangler Unlimited Rubicon       -3000.0               -10.016694   \n",
       "\n",
       "   Cylinders  Liters  Boosted exterior_color_1  low mpg  high mpg  \\\n",
       "0        4.0     2.4    False             blue     21.0      27.0   \n",
       "1        8.0     5.7    False           silver     16.0      23.0   \n",
       "2        4.0     1.6    False           orange     31.0      36.0   \n",
       "3        8.0     5.7    False             gray     19.0      24.0   \n",
       "4        6.0     3.6    False             blue     16.0      21.0   \n",
       "\n",
       "   Days Avaliable  \n",
       "0           785.0  \n",
       "1           610.0  \n",
       "2           578.0  \n",
       "3           532.0  \n",
       "4           663.0  "
      ]
     },
     "execution_count": 8,
     "metadata": {},
     "output_type": "execute_result"
    }
   ],
   "source": [
    "# Convert listed_date to Days Avaliable\n",
    "current_date = pd.Timestamp(dt.datetime.now().date())\n",
    "df['listed_date'] = pd.to_datetime(df['listed_date'])\n",
    "df['Days Avaliable'] = (current_date - df['listed_date']).dt.days\n",
    "df = df.drop('listed_date', axis=1)\n",
    "df.head()"
   ]
  },
  {
   "cell_type": "code",
   "execution_count": 9,
   "metadata": {},
   "outputs": [],
   "source": [
    "# Drop missing price history data. ~25% of data.\n",
    "columns_with_missing_values = ['price_change', 'price_change_percentage']\n",
    "df = df.dropna(subset=columns_with_missing_values)"
   ]
  },
  {
   "cell_type": "code",
   "execution_count": 10,
   "metadata": {},
   "outputs": [
    {
     "data": {
      "text/html": [
       "<div>\n",
       "<style scoped>\n",
       "    .dataframe tbody tr th:only-of-type {\n",
       "        vertical-align: middle;\n",
       "    }\n",
       "\n",
       "    .dataframe tbody tr th {\n",
       "        vertical-align: top;\n",
       "    }\n",
       "\n",
       "    .dataframe thead th {\n",
       "        text-align: right;\n",
       "    }\n",
       "</style>\n",
       "<table border=\"1\" class=\"dataframe\">\n",
       "  <thead>\n",
       "    <tr style=\"text-align: right;\">\n",
       "      <th></th>\n",
       "      <th>listing_mileage</th>\n",
       "      <th>primary_price</th>\n",
       "      <th>drivetrain</th>\n",
       "      <th>transmission</th>\n",
       "      <th>seller_name</th>\n",
       "      <th>1-owner vehicle</th>\n",
       "      <th>Personal use only</th>\n",
       "      <th>Clean title</th>\n",
       "      <th>year</th>\n",
       "      <th>make</th>\n",
       "      <th>model</th>\n",
       "      <th>price_change</th>\n",
       "      <th>price_change_percentage</th>\n",
       "      <th>Cylinders</th>\n",
       "      <th>Liters</th>\n",
       "      <th>Boosted</th>\n",
       "      <th>exterior_color_1</th>\n",
       "      <th>low mpg</th>\n",
       "      <th>high mpg</th>\n",
       "      <th>Days Avaliable</th>\n",
       "    </tr>\n",
       "  </thead>\n",
       "  <tbody>\n",
       "    <tr>\n",
       "      <th>0</th>\n",
       "      <td>79497</td>\n",
       "      <td>17899</td>\n",
       "      <td>Front-wheel Drive</td>\n",
       "      <td>6-Speed Automatic</td>\n",
       "      <td>ETHIO Motors</td>\n",
       "      <td>True</td>\n",
       "      <td>False</td>\n",
       "      <td>True</td>\n",
       "      <td>2018</td>\n",
       "      <td>Hyundai</td>\n",
       "      <td>Santa Fe Sport 2.4L</td>\n",
       "      <td>-2400.0</td>\n",
       "      <td>-11.823243</td>\n",
       "      <td>4.0</td>\n",
       "      <td>2.4</td>\n",
       "      <td>False</td>\n",
       "      <td>blue</td>\n",
       "      <td>21.0</td>\n",
       "      <td>27.0</td>\n",
       "      <td>785.0</td>\n",
       "    </tr>\n",
       "    <tr>\n",
       "      <th>1</th>\n",
       "      <td>80326</td>\n",
       "      <td>27900</td>\n",
       "      <td>Four-wheel Drive</td>\n",
       "      <td>8-Speed Automatic</td>\n",
       "      <td>Custom Cars West</td>\n",
       "      <td>False</td>\n",
       "      <td>True</td>\n",
       "      <td>True</td>\n",
       "      <td>2017</td>\n",
       "      <td>RAM</td>\n",
       "      <td>1500 Express</td>\n",
       "      <td>-3085.0</td>\n",
       "      <td>-9.956431</td>\n",
       "      <td>8.0</td>\n",
       "      <td>5.7</td>\n",
       "      <td>False</td>\n",
       "      <td>silver</td>\n",
       "      <td>16.0</td>\n",
       "      <td>23.0</td>\n",
       "      <td>610.0</td>\n",
       "    </tr>\n",
       "    <tr>\n",
       "      <th>2</th>\n",
       "      <td>92959</td>\n",
       "      <td>18950</td>\n",
       "      <td>Front-wheel Drive</td>\n",
       "      <td>Automatic CVT</td>\n",
       "      <td>Custom Cars West</td>\n",
       "      <td>False</td>\n",
       "      <td>True</td>\n",
       "      <td>True</td>\n",
       "      <td>2019</td>\n",
       "      <td>Nissan</td>\n",
       "      <td>Kicks SR</td>\n",
       "      <td>-1030.0</td>\n",
       "      <td>-5.155155</td>\n",
       "      <td>4.0</td>\n",
       "      <td>1.6</td>\n",
       "      <td>False</td>\n",
       "      <td>orange</td>\n",
       "      <td>31.0</td>\n",
       "      <td>36.0</td>\n",
       "      <td>578.0</td>\n",
       "    </tr>\n",
       "    <tr>\n",
       "      <th>3</th>\n",
       "      <td>59176</td>\n",
       "      <td>39950</td>\n",
       "      <td>Four-wheel Drive</td>\n",
       "      <td>8-Speed Automatic</td>\n",
       "      <td>Custom Cars West</td>\n",
       "      <td>False</td>\n",
       "      <td>False</td>\n",
       "      <td>True</td>\n",
       "      <td>2019</td>\n",
       "      <td>RAM</td>\n",
       "      <td>1500 Laramie</td>\n",
       "      <td>-573.0</td>\n",
       "      <td>-1.414012</td>\n",
       "      <td>8.0</td>\n",
       "      <td>5.7</td>\n",
       "      <td>False</td>\n",
       "      <td>gray</td>\n",
       "      <td>19.0</td>\n",
       "      <td>24.0</td>\n",
       "      <td>532.0</td>\n",
       "    </tr>\n",
       "    <tr>\n",
       "      <th>4</th>\n",
       "      <td>135385</td>\n",
       "      <td>26950</td>\n",
       "      <td>Four-wheel Drive</td>\n",
       "      <td>-</td>\n",
       "      <td>Custom Cars West</td>\n",
       "      <td>False</td>\n",
       "      <td>True</td>\n",
       "      <td>True</td>\n",
       "      <td>2015</td>\n",
       "      <td>Jeep</td>\n",
       "      <td>Wrangler Unlimited Rubicon</td>\n",
       "      <td>-3000.0</td>\n",
       "      <td>-10.016694</td>\n",
       "      <td>6.0</td>\n",
       "      <td>3.6</td>\n",
       "      <td>False</td>\n",
       "      <td>blue</td>\n",
       "      <td>16.0</td>\n",
       "      <td>21.0</td>\n",
       "      <td>663.0</td>\n",
       "    </tr>\n",
       "  </tbody>\n",
       "</table>\n",
       "</div>"
      ],
      "text/plain": [
       "   listing_mileage  primary_price         drivetrain       transmission  \\\n",
       "0            79497          17899  Front-wheel Drive  6-Speed Automatic   \n",
       "1            80326          27900   Four-wheel Drive  8-Speed Automatic   \n",
       "2            92959          18950  Front-wheel Drive      Automatic CVT   \n",
       "3            59176          39950   Four-wheel Drive  8-Speed Automatic   \n",
       "4           135385          26950   Four-wheel Drive                  -   \n",
       "\n",
       "        seller_name  1-owner vehicle  Personal use only  Clean title  year  \\\n",
       "0      ETHIO Motors             True              False         True  2018   \n",
       "1  Custom Cars West            False               True         True  2017   \n",
       "2  Custom Cars West            False               True         True  2019   \n",
       "3  Custom Cars West            False              False         True  2019   \n",
       "4  Custom Cars West            False               True         True  2015   \n",
       "\n",
       "      make                       model  price_change  price_change_percentage  \\\n",
       "0  Hyundai         Santa Fe Sport 2.4L       -2400.0               -11.823243   \n",
       "1      RAM                1500 Express       -3085.0                -9.956431   \n",
       "2   Nissan                    Kicks SR       -1030.0                -5.155155   \n",
       "3      RAM                1500 Laramie        -573.0                -1.414012   \n",
       "4     Jeep  Wrangler Unlimited Rubicon       -3000.0               -10.016694   \n",
       "\n",
       "   Cylinders  Liters  Boosted exterior_color_1  low mpg  high mpg  \\\n",
       "0        4.0     2.4    False             blue     21.0      27.0   \n",
       "1        8.0     5.7    False           silver     16.0      23.0   \n",
       "2        4.0     1.6    False           orange     31.0      36.0   \n",
       "3        8.0     5.7    False             gray     19.0      24.0   \n",
       "4        6.0     3.6    False             blue     16.0      21.0   \n",
       "\n",
       "   Days Avaliable  \n",
       "0           785.0  \n",
       "1           610.0  \n",
       "2           578.0  \n",
       "3           532.0  \n",
       "4           663.0  "
      ]
     },
     "execution_count": 10,
     "metadata": {},
     "output_type": "execute_result"
    }
   ],
   "source": [
    "df.head()"
   ]
  },
  {
   "cell_type": "code",
   "execution_count": 11,
   "metadata": {},
   "outputs": [
    {
     "data": {
      "text/plain": [
       "(3860, 20)"
      ]
     },
     "execution_count": 11,
     "metadata": {},
     "output_type": "execute_result"
    }
   ],
   "source": [
    "df.shape"
   ]
  },
  {
   "cell_type": "markdown",
   "metadata": {},
   "source": [
    "### outcome variable: primary_price\n",
    "### ocluded variables: price_change\tprice_change_percentage"
   ]
  },
  {
   "cell_type": "code",
   "execution_count": 12,
   "metadata": {},
   "outputs": [],
   "source": [
    "# Drop 'price_change' and 'price_change_percentage' to avoid data leakage\n",
    "columns_to_drop = ['price_change', 'price_change_percentage']\n",
    "df = df.drop(columns=columns_to_drop)"
   ]
  },
  {
   "cell_type": "markdown",
   "metadata": {},
   "source": [
    "## Categorical variables"
   ]
  },
  {
   "cell_type": "code",
   "execution_count": 13,
   "metadata": {},
   "outputs": [
    {
     "name": "stdout",
     "output_type": "stream",
     "text": [
      "Unique values for seller_name: 122\n",
      "Unique values for drivetrain: 6\n",
      "Unique values for transmission: 83\n",
      "Unique values for make: 47\n",
      "Unique values for model: 1405\n",
      "Unique values for exterior_color_1: 13\n"
     ]
    }
   ],
   "source": [
    "categorical_columns = ['seller_name', 'drivetrain', 'transmission', 'make', 'model', 'exterior_color_1']\n",
    "\n",
    "# Check how many unique values there are in categorical_columns\n",
    "for column in categorical_columns:\n",
    "    unique_values = df[column].nunique()\n",
    "    print(f\"Unique values for {column}:\", unique_values)\n",
    "\n",
    "# Models has a large number of unique values\n",
    "# seller_name, transmission, make, model have a large number of unique values\n",
    "# Consider embedding these instead of one-hot encode"
   ]
  },
  {
   "cell_type": "code",
   "execution_count": 14,
   "metadata": {},
   "outputs": [],
   "source": [
    "X = df.drop('primary_price', axis=1)  # Features\n",
    "y = df['primary_price']  # Target"
   ]
  },
  {
   "cell_type": "code",
   "execution_count": 15,
   "metadata": {},
   "outputs": [
    {
     "data": {
      "text/plain": [
       "listing_mileage        int64\n",
       "drivetrain            object\n",
       "transmission          object\n",
       "seller_name           object\n",
       "1-owner vehicle         bool\n",
       "Personal use only       bool\n",
       "Clean title             bool\n",
       "year                   int64\n",
       "make                  object\n",
       "model                 object\n",
       "Cylinders            float64\n",
       "Liters               float64\n",
       "Boosted                 bool\n",
       "exterior_color_1      object\n",
       "low mpg              float64\n",
       "high mpg             float64\n",
       "Days Avaliable       float64\n",
       "dtype: object"
      ]
     },
     "execution_count": 15,
     "metadata": {},
     "output_type": "execute_result"
    }
   ],
   "source": [
    "X.dtypes"
   ]
  },
  {
   "cell_type": "code",
   "execution_count": 16,
   "metadata": {},
   "outputs": [
    {
     "data": {
      "text/plain": [
       "dtype('int64')"
      ]
     },
     "execution_count": 16,
     "metadata": {},
     "output_type": "execute_result"
    }
   ],
   "source": [
    "y.dtype"
   ]
  },
  {
   "cell_type": "code",
   "execution_count": 17,
   "metadata": {},
   "outputs": [],
   "source": [
    "### One-hot Encode \n",
    "X = pd.get_dummies(X, columns=categorical_columns)"
   ]
  },
  {
   "cell_type": "code",
   "execution_count": 18,
   "metadata": {},
   "outputs": [
    {
     "data": {
      "text/plain": [
       "(3860, 1687)"
      ]
     },
     "execution_count": 18,
     "metadata": {},
     "output_type": "execute_result"
    }
   ],
   "source": [
    "X.shape"
   ]
  },
  {
   "cell_type": "code",
   "execution_count": 19,
   "metadata": {},
   "outputs": [
    {
     "name": "stdout",
     "output_type": "stream",
     "text": [
      "Unsupported Data Types:\n"
     ]
    }
   ],
   "source": [
    "# Check that X doesn't have object data\n",
    "unsupported_types = []\n",
    "\n",
    "for column in X.columns:\n",
    "    dtype = X[column].dtype\n",
    "    if dtype == 'object':\n",
    "        unsupported_types.append((column, dtype))\n",
    "\n",
    "print(\"Unsupported Data Types:\")\n",
    "for column, dtype in unsupported_types:\n",
    "    print(f\"{column}: {dtype}\")\n"
   ]
  },
  {
   "cell_type": "code",
   "execution_count": 20,
   "metadata": {},
   "outputs": [
    {
     "data": {
      "text/html": [
       "<div>\n",
       "<style scoped>\n",
       "    .dataframe tbody tr th:only-of-type {\n",
       "        vertical-align: middle;\n",
       "    }\n",
       "\n",
       "    .dataframe tbody tr th {\n",
       "        vertical-align: top;\n",
       "    }\n",
       "\n",
       "    .dataframe thead th {\n",
       "        text-align: right;\n",
       "    }\n",
       "</style>\n",
       "<table border=\"1\" class=\"dataframe\">\n",
       "  <thead>\n",
       "    <tr style=\"text-align: right;\">\n",
       "      <th></th>\n",
       "      <th>listing_mileage</th>\n",
       "      <th>primary_price</th>\n",
       "      <th>drivetrain</th>\n",
       "      <th>transmission</th>\n",
       "      <th>seller_name</th>\n",
       "      <th>1-owner vehicle</th>\n",
       "      <th>Personal use only</th>\n",
       "      <th>Clean title</th>\n",
       "      <th>year</th>\n",
       "      <th>make</th>\n",
       "      <th>model</th>\n",
       "      <th>Cylinders</th>\n",
       "      <th>Liters</th>\n",
       "      <th>Boosted</th>\n",
       "      <th>exterior_color_1</th>\n",
       "      <th>low mpg</th>\n",
       "      <th>high mpg</th>\n",
       "      <th>Days Avaliable</th>\n",
       "    </tr>\n",
       "  </thead>\n",
       "  <tbody>\n",
       "    <tr>\n",
       "      <th>0</th>\n",
       "      <td>79497</td>\n",
       "      <td>17899</td>\n",
       "      <td>Front-wheel Drive</td>\n",
       "      <td>6-Speed Automatic</td>\n",
       "      <td>ETHIO Motors</td>\n",
       "      <td>True</td>\n",
       "      <td>False</td>\n",
       "      <td>True</td>\n",
       "      <td>2018</td>\n",
       "      <td>Hyundai</td>\n",
       "      <td>Santa Fe Sport 2.4L</td>\n",
       "      <td>4.0</td>\n",
       "      <td>2.4</td>\n",
       "      <td>False</td>\n",
       "      <td>blue</td>\n",
       "      <td>21.0</td>\n",
       "      <td>27.0</td>\n",
       "      <td>785.0</td>\n",
       "    </tr>\n",
       "    <tr>\n",
       "      <th>1</th>\n",
       "      <td>80326</td>\n",
       "      <td>27900</td>\n",
       "      <td>Four-wheel Drive</td>\n",
       "      <td>8-Speed Automatic</td>\n",
       "      <td>Custom Cars West</td>\n",
       "      <td>False</td>\n",
       "      <td>True</td>\n",
       "      <td>True</td>\n",
       "      <td>2017</td>\n",
       "      <td>RAM</td>\n",
       "      <td>1500 Express</td>\n",
       "      <td>8.0</td>\n",
       "      <td>5.7</td>\n",
       "      <td>False</td>\n",
       "      <td>silver</td>\n",
       "      <td>16.0</td>\n",
       "      <td>23.0</td>\n",
       "      <td>610.0</td>\n",
       "    </tr>\n",
       "    <tr>\n",
       "      <th>2</th>\n",
       "      <td>92959</td>\n",
       "      <td>18950</td>\n",
       "      <td>Front-wheel Drive</td>\n",
       "      <td>Automatic CVT</td>\n",
       "      <td>Custom Cars West</td>\n",
       "      <td>False</td>\n",
       "      <td>True</td>\n",
       "      <td>True</td>\n",
       "      <td>2019</td>\n",
       "      <td>Nissan</td>\n",
       "      <td>Kicks SR</td>\n",
       "      <td>4.0</td>\n",
       "      <td>1.6</td>\n",
       "      <td>False</td>\n",
       "      <td>orange</td>\n",
       "      <td>31.0</td>\n",
       "      <td>36.0</td>\n",
       "      <td>578.0</td>\n",
       "    </tr>\n",
       "    <tr>\n",
       "      <th>3</th>\n",
       "      <td>59176</td>\n",
       "      <td>39950</td>\n",
       "      <td>Four-wheel Drive</td>\n",
       "      <td>8-Speed Automatic</td>\n",
       "      <td>Custom Cars West</td>\n",
       "      <td>False</td>\n",
       "      <td>False</td>\n",
       "      <td>True</td>\n",
       "      <td>2019</td>\n",
       "      <td>RAM</td>\n",
       "      <td>1500 Laramie</td>\n",
       "      <td>8.0</td>\n",
       "      <td>5.7</td>\n",
       "      <td>False</td>\n",
       "      <td>gray</td>\n",
       "      <td>19.0</td>\n",
       "      <td>24.0</td>\n",
       "      <td>532.0</td>\n",
       "    </tr>\n",
       "    <tr>\n",
       "      <th>4</th>\n",
       "      <td>135385</td>\n",
       "      <td>26950</td>\n",
       "      <td>Four-wheel Drive</td>\n",
       "      <td>-</td>\n",
       "      <td>Custom Cars West</td>\n",
       "      <td>False</td>\n",
       "      <td>True</td>\n",
       "      <td>True</td>\n",
       "      <td>2015</td>\n",
       "      <td>Jeep</td>\n",
       "      <td>Wrangler Unlimited Rubicon</td>\n",
       "      <td>6.0</td>\n",
       "      <td>3.6</td>\n",
       "      <td>False</td>\n",
       "      <td>blue</td>\n",
       "      <td>16.0</td>\n",
       "      <td>21.0</td>\n",
       "      <td>663.0</td>\n",
       "    </tr>\n",
       "  </tbody>\n",
       "</table>\n",
       "</div>"
      ],
      "text/plain": [
       "   listing_mileage  primary_price         drivetrain       transmission  \\\n",
       "0            79497          17899  Front-wheel Drive  6-Speed Automatic   \n",
       "1            80326          27900   Four-wheel Drive  8-Speed Automatic   \n",
       "2            92959          18950  Front-wheel Drive      Automatic CVT   \n",
       "3            59176          39950   Four-wheel Drive  8-Speed Automatic   \n",
       "4           135385          26950   Four-wheel Drive                  -   \n",
       "\n",
       "        seller_name  1-owner vehicle  Personal use only  Clean title  year  \\\n",
       "0      ETHIO Motors             True              False         True  2018   \n",
       "1  Custom Cars West            False               True         True  2017   \n",
       "2  Custom Cars West            False               True         True  2019   \n",
       "3  Custom Cars West            False              False         True  2019   \n",
       "4  Custom Cars West            False               True         True  2015   \n",
       "\n",
       "      make                       model  Cylinders  Liters  Boosted  \\\n",
       "0  Hyundai         Santa Fe Sport 2.4L        4.0     2.4    False   \n",
       "1      RAM                1500 Express        8.0     5.7    False   \n",
       "2   Nissan                    Kicks SR        4.0     1.6    False   \n",
       "3      RAM                1500 Laramie        8.0     5.7    False   \n",
       "4     Jeep  Wrangler Unlimited Rubicon        6.0     3.6    False   \n",
       "\n",
       "  exterior_color_1  low mpg  high mpg  Days Avaliable  \n",
       "0             blue     21.0      27.0           785.0  \n",
       "1           silver     16.0      23.0           610.0  \n",
       "2           orange     31.0      36.0           578.0  \n",
       "3             gray     19.0      24.0           532.0  \n",
       "4             blue     16.0      21.0           663.0  "
      ]
     },
     "execution_count": 20,
     "metadata": {},
     "output_type": "execute_result"
    }
   ],
   "source": [
    "df.head()"
   ]
  },
  {
   "cell_type": "markdown",
   "metadata": {},
   "source": [
    "## Split data into 80% training set and 20% validation set."
   ]
  },
  {
   "cell_type": "code",
   "execution_count": 21,
   "metadata": {},
   "outputs": [],
   "source": [
    "# Split the data into training and validation sets\n",
    "X_train, X_val, y_train, y_val = train_test_split(X, y, test_size=0.2, random_state=42)\n",
    "\n",
    "# Convert all columns to float\n",
    "X_train = X_train.astype(float)\n",
    "X_val = X_val.astype(float)\n",
    "y_train = y_train.astype(float)\n",
    "y_val = y_val.astype(float)\n",
    "\n",
    "# Convert data to numpy array\n",
    "X_train = X_train.to_numpy()\n",
    "X_val = X_val.to_numpy()\n",
    "y_train = y_train.to_numpy()\n",
    "y_val = y_val.to_numpy()"
   ]
  },
  {
   "cell_type": "code",
   "execution_count": 22,
   "metadata": {},
   "outputs": [
    {
     "name": "stdout",
     "output_type": "stream",
     "text": [
      "X_train shape: (3088, 1687)\n",
      "X_val shape: (772, 1687)\n",
      "y_train shape: (3088,)\n",
      "y_val shape: (772,)\n"
     ]
    }
   ],
   "source": [
    "print(\"X_train shape:\", X_train.shape)\n",
    "print(\"X_val shape:\", X_val.shape)\n",
    "print(\"y_train shape:\", y_train.shape)\n",
    "print(\"y_val shape:\", y_val.shape)"
   ]
  },
  {
   "cell_type": "code",
   "execution_count": 23,
   "metadata": {},
   "outputs": [],
   "source": [
    "# Convert NumPy arrays to PyTorch tensors\n",
    "X_train_tensor = torch.Tensor(X_train)\n",
    "y_train_tensor = torch.Tensor(y_train)\n",
    "X_val_tensor = torch.Tensor(X_val)\n",
    "y_val_tensor = torch.Tensor(y_val)"
   ]
  },
  {
   "cell_type": "markdown",
   "metadata": {},
   "source": [
    "## Deep Neural Net"
   ]
  },
  {
   "cell_type": "code",
   "execution_count": 24,
   "metadata": {},
   "outputs": [
    {
     "name": "stdout",
     "output_type": "stream",
     "text": [
      "Epoch [50/1000], Training Loss: 1332864000.0\n",
      "Epoch [100/1000], Training Loss: 615997760.0\n",
      "Epoch [150/1000], Training Loss: 595053312.0\n",
      "Epoch [200/1000], Training Loss: 601976832.0\n",
      "Epoch [250/1000], Training Loss: 599167360.0\n",
      "Epoch [300/1000], Training Loss: 607092992.0\n",
      "Epoch [350/1000], Training Loss: 589004672.0\n",
      "Epoch [400/1000], Training Loss: 582732544.0\n",
      "Epoch [450/1000], Training Loss: 569296832.0\n",
      "Epoch [500/1000], Training Loss: 572716480.0\n",
      "Epoch [550/1000], Training Loss: 562392960.0\n",
      "Epoch [600/1000], Training Loss: 541574336.0\n",
      "Epoch [650/1000], Training Loss: 530764704.0\n",
      "Epoch [700/1000], Training Loss: 527110688.0\n",
      "Epoch [750/1000], Training Loss: 488469312.0\n",
      "Epoch [800/1000], Training Loss: 488107552.0\n",
      "Epoch [850/1000], Training Loss: 492914496.0\n",
      "Epoch [900/1000], Training Loss: 491616576.0\n",
      "Epoch [950/1000], Training Loss: 417035392.0\n",
      "Epoch [1000/1000], Training Loss: 449416928.0\n"
     ]
    }
   ],
   "source": [
    "class NeuralNetwork(nn.Module):\n",
    "    def __init__(self, input_size):\n",
    "        super(NeuralNetwork, self).__init__()\n",
    "        self.fc1 = nn.Linear(input_size, 256)\n",
    "        self.relu1 = nn.ReLU()\n",
    "        self.dropout1 = nn.Dropout(0.5)\n",
    "        self.fc2 = nn.Linear(256, 128)\n",
    "        self.relu2 = nn.ReLU()\n",
    "        self.dropout2 = nn.Dropout(0.5)\n",
    "        self.fc3 = nn.Linear(128, 64)\n",
    "        self.relu3 = nn.ReLU()\n",
    "        self.dropout3 = nn.Dropout(0.5)\n",
    "        self.fc4 = nn.Linear(64, 1)  # Output layer for regression\n",
    "\n",
    "    def forward(self, x):\n",
    "        x = self.fc1(x)\n",
    "        x = self.relu1(x)\n",
    "        x = self.dropout1(x)\n",
    "        x = self.fc2(x)\n",
    "        x = self.relu2(x)\n",
    "        x = self.dropout2(x)\n",
    "        x = self.fc3(x)\n",
    "        x = self.relu3(x)\n",
    "        x = self.dropout3(x)\n",
    "        x = self.fc4(x)\n",
    "        return x\n",
    "\n",
    "# Create the model\n",
    "input_size = X_train_tensor.shape[1]\n",
    "model = NeuralNetwork(input_size)\n",
    "\n",
    "# Loss function for regression\n",
    "criterion = nn.MSELoss()\n",
    "\n",
    "# Optimizer\n",
    "optimizer = optim.Adam(model.parameters(), lr=0.001)\n",
    "\n",
    "# Training loop\n",
    "epochs = 1000\n",
    "for epoch in range(epochs):\n",
    "    # Forward pass\n",
    "    outputs = model(X_train_tensor)\n",
    "    loss = criterion(outputs, y_train_tensor.view(-1, 1))\n",
    "    \n",
    "    # Backward pass and optimization\n",
    "    optimizer.zero_grad()\n",
    "    loss.backward()\n",
    "    optimizer.step()\n",
    "    \n",
    "    # Calculate training accuracy\n",
    "    with torch.no_grad():\n",
    "        train_outputs = model(X_train_tensor)\n",
    "        train_loss = criterion(train_outputs, y_train_tensor.view(-1, 1))\n",
    "    \n",
    "    # Print training loss\n",
    "    if (epoch+1) % 50 == 0:\n",
    "        print(f'Epoch [{epoch+1}/{epochs}], Training Loss: {train_loss.item()}')\n"
   ]
  },
  {
   "cell_type": "code",
   "execution_count": 25,
   "metadata": {},
   "outputs": [
    {
     "name": "stdout",
     "output_type": "stream",
     "text": [
      "Training:\n",
      "Loss: 454414784.0000\n",
      "MAE: 10659.3125\n",
      "RMSE: 21317.0078\n",
      "R^2: 0.3585\n",
      "\n",
      "Validation:\n",
      "Loss: 302047360.0000\n",
      "MAE: 9931.4033\n",
      "RMSE: 17379.5098\n",
      "R^2: 0.4973\n"
     ]
    }
   ],
   "source": [
    "from sklearn.metrics import mean_absolute_error, mean_squared_error, r2_score\n",
    "\n",
    "def evaluate_model(model, criterion, X, y):\n",
    "    # Forward pass\n",
    "    outputs = model(X)\n",
    "    \n",
    "    # Calculate loss\n",
    "    loss = criterion(outputs, y.view(-1, 1))\n",
    "    \n",
    "    # Convert predictions and targets to numpy arrays\n",
    "    y_pred = outputs.detach().numpy()\n",
    "    y_true = y.numpy()\n",
    "    \n",
    "    # Calculate metrics\n",
    "    mae = mean_absolute_error(y_true, y_pred)\n",
    "    mse = mean_squared_error(y_true, y_pred)\n",
    "    rmse = np.sqrt(mse)\n",
    "    r2 = r2_score(y_true, y_pred)\n",
    "    \n",
    "    return loss.item(), mae, mse, rmse, r2\n",
    "\n",
    "# After the training loop\n",
    "\n",
    "# Evaluate the model on the training set\n",
    "train_loss, train_mae, train_mse, train_rmse, train_r2 = evaluate_model(model, criterion, X_train_tensor, y_train_tensor)\n",
    "\n",
    "# Evaluate the model on the validation set\n",
    "val_loss, val_mae, val_mse, val_rmse, val_r2 = evaluate_model(model, criterion, X_val_tensor, y_val_tensor)\n",
    "\n",
    "# Print the evaluation metrics\n",
    "print(f\"Training:\\nLoss: {train_loss:.4f}\\nMAE: {train_mae:.4f}\\nRMSE: {train_rmse:.4f}\\nR^2: {train_r2:.4f}\\n\")\n",
    "print(f\"Validation:\\nLoss: {val_loss:.4f}\\nMAE: {val_mae:.4f}\\nRMSE: {val_rmse:.4f}\\nR^2: {val_r2:.4f}\")"
   ]
  },
  {
   "cell_type": "markdown",
   "metadata": {},
   "source": [
    "## Linear Regression"
   ]
  },
  {
   "cell_type": "code",
   "execution_count": 26,
   "metadata": {},
   "outputs": [
    {
     "name": "stdout",
     "output_type": "stream",
     "text": [
      "Training accuracy (the coefficient of determination): 0.988\n"
     ]
    }
   ],
   "source": [
    "# Setup model\n",
    "m = LinearRegression()\n",
    "# Give input and output data\n",
    "m.fit(X_train, y_train)\n",
    "print('Training accuracy (the coefficient of determination): {:.3f}'.format(m.score(X_train, y_train)))"
   ]
  },
  {
   "cell_type": "markdown",
   "metadata": {},
   "source": [
    "## Test the model on the test data"
   ]
  },
  {
   "cell_type": "code",
   "execution_count": 27,
   "metadata": {},
   "outputs": [],
   "source": [
    "prediction = m.predict(X_val)"
   ]
  },
  {
   "cell_type": "code",
   "execution_count": 28,
   "metadata": {},
   "outputs": [
    {
     "name": "stdout",
     "output_type": "stream",
     "text": [
      "Testing accuracy by using score function: 0.505\n",
      "Testing accuracy by using r2_score meric: 0.505\n"
     ]
    }
   ],
   "source": [
    "print('Testing accuracy by using score function: {:.3f}'.format(m.score(X_val, y_val)))\n",
    "print('Testing accuracy by using r2_score meric: {:.3f}'.format(r2_score(y_val, m.predict(X_val))))"
   ]
  },
  {
   "cell_type": "code",
   "execution_count": 29,
   "metadata": {},
   "outputs": [
    {
     "data": {
      "text/plain": [
       "5638.067494940242"
      ]
     },
     "execution_count": 29,
     "metadata": {},
     "output_type": "execute_result"
    }
   ],
   "source": [
    "mean_absolute_error(y_val, prediction)"
   ]
  },
  {
   "cell_type": "markdown",
   "metadata": {},
   "source": [
    "## Add statsmodel for p-value"
   ]
  },
  {
   "cell_type": "code",
   "execution_count": 30,
   "metadata": {},
   "outputs": [
    {
     "ename": "NameError",
     "evalue": "name 'sm' is not defined",
     "output_type": "error",
     "traceback": [
      "\u001b[1;31m---------------------------------------------------------------------------\u001b[0m",
      "\u001b[1;31mNameError\u001b[0m                                 Traceback (most recent call last)",
      "\u001b[1;32m~\\AppData\\Local\\Temp/ipykernel_23432/3590712831.py\u001b[0m in \u001b[0;36m<module>\u001b[1;34m\u001b[0m\n\u001b[1;32m----> 1\u001b[1;33m \u001b[0mmodel\u001b[0m \u001b[1;33m=\u001b[0m \u001b[0msm\u001b[0m\u001b[1;33m.\u001b[0m\u001b[0mOLS\u001b[0m\u001b[1;33m(\u001b[0m\u001b[0mX_train\u001b[0m\u001b[1;33m,\u001b[0m \u001b[0my_train\u001b[0m\u001b[1;33m)\u001b[0m\u001b[1;33m.\u001b[0m\u001b[0mfit\u001b[0m\u001b[1;33m(\u001b[0m\u001b[1;33m)\u001b[0m\u001b[1;33m\u001b[0m\u001b[1;33m\u001b[0m\u001b[0m\n\u001b[0m\u001b[0;32m      2\u001b[0m \u001b[1;31m# Get the summary of the regression\u001b[0m\u001b[1;33m\u001b[0m\u001b[1;33m\u001b[0m\u001b[0m\n\u001b[0;32m      3\u001b[0m \u001b[0msummary\u001b[0m \u001b[1;33m=\u001b[0m \u001b[0mmodel\u001b[0m\u001b[1;33m.\u001b[0m\u001b[0msummary\u001b[0m\u001b[1;33m(\u001b[0m\u001b[1;33m)\u001b[0m\u001b[1;33m\u001b[0m\u001b[1;33m\u001b[0m\u001b[0m\n\u001b[0;32m      4\u001b[0m \u001b[1;33m\u001b[0m\u001b[0m\n\u001b[0;32m      5\u001b[0m \u001b[1;31m# Extract the p-values for each coefficient\u001b[0m\u001b[1;33m\u001b[0m\u001b[1;33m\u001b[0m\u001b[0m\n",
      "\u001b[1;31mNameError\u001b[0m: name 'sm' is not defined"
     ]
    }
   ],
   "source": [
    "model = sm.OLS(X_train, y_train).fit()\n",
    "# Get the summary of the regression\n",
    "summary = model.summary()\n",
    "\n",
    "# Extract the p-values for each coefficient\n",
    "p_values = summary.tables[1]['P>|t|']\n",
    "\n",
    "# Display the p-values\n",
    "print(p_values)"
   ]
  }
 ],
 "metadata": {
  "kernelspec": {
   "display_name": "Python 3",
   "language": "python",
   "name": "python3"
  },
  "language_info": {
   "codemirror_mode": {
    "name": "ipython",
    "version": 3
   },
   "file_extension": ".py",
   "mimetype": "text/x-python",
   "name": "python",
   "nbconvert_exporter": "python",
   "pygments_lexer": "ipython3",
   "version": "3.10.7"
  }
 },
 "nbformat": 4,
 "nbformat_minor": 2
}

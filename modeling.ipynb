{
 "cells": [
  {
   "cell_type": "code",
   "execution_count": 1,
   "metadata": {},
   "outputs": [],
   "source": [
    "import datetime as dt\n",
    "import ast\n",
    "import json\n",
    "from collections import Counter\n",
    "\n",
    "import numpy as np\n",
    "import pandas as pd\n",
    "import string\n",
    "import re\n",
    "\n",
    "import matplotlib.pyplot as plt\n",
    "import seaborn as sns\n",
    "%matplotlib inline\n",
    "\n",
    "#from sklearn.model_selection import train_test_split\n",
    "#from sklearn.ensemble import RandomForestRegressor\n",
    "\n",
    "import tensorflow as tf\n",
    "from tensorflow import keras\n",
    "import pandas as pd\n",
    "import torch\n",
    "import torch.nn as nn\n",
    "import torch.optim as optim\n",
    "from torch.utils.data import DataLoader, TensorDataset\n",
    "from sklearn.preprocessing import StandardScaler\n",
    "import numpy as np\n",
    "import matplotlib.pyplot as plt\n",
    "from keras.models import Sequential, Model\n",
    "from keras.layers import Input, Embedding, Flatten, Dense, concatenate\n",
    "from sklearn.model_selection import train_test_split\n",
    "from sklearn.linear_model import LinearRegression\n",
    "from sklearn.metrics import mean_squared_error, r2_score\n",
    "from sklearn.metrics import mean_absolute_error, mean_squared_error\n",
    "import statsmodels.api as sm"
   ]
  },
  {
   "cell_type": "code",
   "execution_count": 2,
   "metadata": {},
   "outputs": [],
   "source": [
    "df = pd.read_csv('new_cars.csv')"
   ]
  },
  {
   "cell_type": "code",
   "execution_count": 3,
   "metadata": {},
   "outputs": [],
   "source": [
    "### Drop unncessary columns\n",
    "columns_to_drop = ['link', 'stock_number', 'vin', 'deal_gauge', 'exterior_color', 'mpg', 'fuel_type', 'engine', 'price_history', 'vehicle_history', 'listing_title', 'interior_color', 'Open recall', 'Accidents or damage']\n",
    "# add interior_color back once normalized\n",
    "# add Open recall back once cleaned\n",
    "# add Accidents or damage back once cleaned\n",
    "df = df.drop(columns=columns_to_drop)"
   ]
  },
  {
   "cell_type": "code",
   "execution_count": 4,
   "metadata": {},
   "outputs": [],
   "source": [
    "### Convert data types\n",
    "boolean_columns = ['1-owner vehicle', 'Personal use only', 'Clean title']\n",
    "\n",
    "for column in boolean_columns:\n",
    "    df[column] = df[column].map({'Yes': True, 'No': False}).astype(bool)"
   ]
  },
  {
   "cell_type": "code",
   "execution_count": 5,
   "metadata": {},
   "outputs": [
    {
     "name": "stdout",
     "output_type": "stream",
     "text": [
      "seller_name                  45\n",
      "listed_date                1523\n",
      "price_change               1523\n",
      "price_change_percentage    1523\n",
      "Cylinders                    74\n",
      "Liters                      106\n",
      "exterior_color_1            243\n",
      "exterior_color_2           5990\n",
      "low mpg                     427\n",
      "high mpg                    427\n",
      "dtype: int64\n"
     ]
    }
   ],
   "source": [
    "# Check for NAs\n",
    "missing_counts = df.isna().sum()\n",
    "print(missing_counts[missing_counts > 0])"
   ]
  },
  {
   "cell_type": "code",
   "execution_count": 6,
   "metadata": {},
   "outputs": [],
   "source": [
    "# Drop rows with a low number of missing values\n",
    "columns_with_missing_values = ['seller_name', 'Cylinders', 'Liters', 'exterior_color_1', 'low mpg', 'high mpg']\n",
    "df = df.dropna(subset=columns_with_missing_values)\n",
    "\n",
    "# Drop exterior_color_2 since it only has 12 values\n",
    "df = df.drop(columns=['exterior_color_2'])"
   ]
  },
  {
   "cell_type": "code",
   "execution_count": 7,
   "metadata": {},
   "outputs": [
    {
     "data": {
      "text/html": [
       "<div>\n",
       "<style scoped>\n",
       "    .dataframe tbody tr th:only-of-type {\n",
       "        vertical-align: middle;\n",
       "    }\n",
       "\n",
       "    .dataframe tbody tr th {\n",
       "        vertical-align: top;\n",
       "    }\n",
       "\n",
       "    .dataframe thead th {\n",
       "        text-align: right;\n",
       "    }\n",
       "</style>\n",
       "<table border=\"1\" class=\"dataframe\">\n",
       "  <thead>\n",
       "    <tr style=\"text-align: right;\">\n",
       "      <th></th>\n",
       "      <th>listing_mileage</th>\n",
       "      <th>primary_price</th>\n",
       "      <th>drivetrain</th>\n",
       "      <th>transmission</th>\n",
       "      <th>seller_name</th>\n",
       "      <th>1-owner vehicle</th>\n",
       "      <th>Personal use only</th>\n",
       "      <th>Clean title</th>\n",
       "      <th>year</th>\n",
       "      <th>make</th>\n",
       "      <th>model</th>\n",
       "      <th>price_change</th>\n",
       "      <th>price_change_percentage</th>\n",
       "      <th>Cylinders</th>\n",
       "      <th>Liters</th>\n",
       "      <th>Boosted</th>\n",
       "      <th>exterior_color_1</th>\n",
       "      <th>low mpg</th>\n",
       "      <th>high mpg</th>\n",
       "      <th>Days Avaliable</th>\n",
       "    </tr>\n",
       "  </thead>\n",
       "  <tbody>\n",
       "    <tr>\n",
       "      <th>0</th>\n",
       "      <td>79497</td>\n",
       "      <td>17899</td>\n",
       "      <td>Front-wheel Drive</td>\n",
       "      <td>6-Speed Automatic</td>\n",
       "      <td>ETHIO Motors</td>\n",
       "      <td>True</td>\n",
       "      <td>False</td>\n",
       "      <td>True</td>\n",
       "      <td>2018</td>\n",
       "      <td>Hyundai</td>\n",
       "      <td>Santa Fe Sport 2.4L</td>\n",
       "      <td>-2400.0</td>\n",
       "      <td>-11.823243</td>\n",
       "      <td>4.0</td>\n",
       "      <td>2.4</td>\n",
       "      <td>False</td>\n",
       "      <td>blue</td>\n",
       "      <td>21.0</td>\n",
       "      <td>27.0</td>\n",
       "      <td>785.0</td>\n",
       "    </tr>\n",
       "    <tr>\n",
       "      <th>1</th>\n",
       "      <td>80326</td>\n",
       "      <td>27900</td>\n",
       "      <td>Four-wheel Drive</td>\n",
       "      <td>8-Speed Automatic</td>\n",
       "      <td>Custom Cars West</td>\n",
       "      <td>False</td>\n",
       "      <td>True</td>\n",
       "      <td>True</td>\n",
       "      <td>2017</td>\n",
       "      <td>RAM</td>\n",
       "      <td>1500 Express</td>\n",
       "      <td>-3085.0</td>\n",
       "      <td>-9.956431</td>\n",
       "      <td>8.0</td>\n",
       "      <td>5.7</td>\n",
       "      <td>False</td>\n",
       "      <td>silver</td>\n",
       "      <td>16.0</td>\n",
       "      <td>23.0</td>\n",
       "      <td>610.0</td>\n",
       "    </tr>\n",
       "    <tr>\n",
       "      <th>2</th>\n",
       "      <td>92959</td>\n",
       "      <td>18950</td>\n",
       "      <td>Front-wheel Drive</td>\n",
       "      <td>Automatic CVT</td>\n",
       "      <td>Custom Cars West</td>\n",
       "      <td>False</td>\n",
       "      <td>True</td>\n",
       "      <td>True</td>\n",
       "      <td>2019</td>\n",
       "      <td>Nissan</td>\n",
       "      <td>Kicks SR</td>\n",
       "      <td>-1030.0</td>\n",
       "      <td>-5.155155</td>\n",
       "      <td>4.0</td>\n",
       "      <td>1.6</td>\n",
       "      <td>False</td>\n",
       "      <td>orange</td>\n",
       "      <td>31.0</td>\n",
       "      <td>36.0</td>\n",
       "      <td>578.0</td>\n",
       "    </tr>\n",
       "    <tr>\n",
       "      <th>3</th>\n",
       "      <td>59176</td>\n",
       "      <td>39950</td>\n",
       "      <td>Four-wheel Drive</td>\n",
       "      <td>8-Speed Automatic</td>\n",
       "      <td>Custom Cars West</td>\n",
       "      <td>False</td>\n",
       "      <td>False</td>\n",
       "      <td>True</td>\n",
       "      <td>2019</td>\n",
       "      <td>RAM</td>\n",
       "      <td>1500 Laramie</td>\n",
       "      <td>-573.0</td>\n",
       "      <td>-1.414012</td>\n",
       "      <td>8.0</td>\n",
       "      <td>5.7</td>\n",
       "      <td>False</td>\n",
       "      <td>gray</td>\n",
       "      <td>19.0</td>\n",
       "      <td>24.0</td>\n",
       "      <td>532.0</td>\n",
       "    </tr>\n",
       "    <tr>\n",
       "      <th>4</th>\n",
       "      <td>135385</td>\n",
       "      <td>26950</td>\n",
       "      <td>Four-wheel Drive</td>\n",
       "      <td>-</td>\n",
       "      <td>Custom Cars West</td>\n",
       "      <td>False</td>\n",
       "      <td>True</td>\n",
       "      <td>True</td>\n",
       "      <td>2015</td>\n",
       "      <td>Jeep</td>\n",
       "      <td>Wrangler Unlimited Rubicon</td>\n",
       "      <td>-3000.0</td>\n",
       "      <td>-10.016694</td>\n",
       "      <td>6.0</td>\n",
       "      <td>3.6</td>\n",
       "      <td>False</td>\n",
       "      <td>blue</td>\n",
       "      <td>16.0</td>\n",
       "      <td>21.0</td>\n",
       "      <td>663.0</td>\n",
       "    </tr>\n",
       "  </tbody>\n",
       "</table>\n",
       "</div>"
      ],
      "text/plain": [
       "   listing_mileage  primary_price         drivetrain       transmission  \\\n",
       "0            79497          17899  Front-wheel Drive  6-Speed Automatic   \n",
       "1            80326          27900   Four-wheel Drive  8-Speed Automatic   \n",
       "2            92959          18950  Front-wheel Drive      Automatic CVT   \n",
       "3            59176          39950   Four-wheel Drive  8-Speed Automatic   \n",
       "4           135385          26950   Four-wheel Drive                  -   \n",
       "\n",
       "        seller_name  1-owner vehicle  Personal use only  Clean title  year  \\\n",
       "0      ETHIO Motors             True              False         True  2018   \n",
       "1  Custom Cars West            False               True         True  2017   \n",
       "2  Custom Cars West            False               True         True  2019   \n",
       "3  Custom Cars West            False              False         True  2019   \n",
       "4  Custom Cars West            False               True         True  2015   \n",
       "\n",
       "      make                       model  price_change  price_change_percentage  \\\n",
       "0  Hyundai         Santa Fe Sport 2.4L       -2400.0               -11.823243   \n",
       "1      RAM                1500 Express       -3085.0                -9.956431   \n",
       "2   Nissan                    Kicks SR       -1030.0                -5.155155   \n",
       "3      RAM                1500 Laramie        -573.0                -1.414012   \n",
       "4     Jeep  Wrangler Unlimited Rubicon       -3000.0               -10.016694   \n",
       "\n",
       "   Cylinders  Liters  Boosted exterior_color_1  low mpg  high mpg  \\\n",
       "0        4.0     2.4    False             blue     21.0      27.0   \n",
       "1        8.0     5.7    False           silver     16.0      23.0   \n",
       "2        4.0     1.6    False           orange     31.0      36.0   \n",
       "3        8.0     5.7    False             gray     19.0      24.0   \n",
       "4        6.0     3.6    False             blue     16.0      21.0   \n",
       "\n",
       "   Days Avaliable  \n",
       "0           785.0  \n",
       "1           610.0  \n",
       "2           578.0  \n",
       "3           532.0  \n",
       "4           663.0  "
      ]
     },
     "execution_count": 7,
     "metadata": {},
     "output_type": "execute_result"
    }
   ],
   "source": [
    "# Convert listed_date to Days Avaliable\n",
    "current_date = pd.Timestamp(dt.datetime.now().date())\n",
    "df['listed_date'] = pd.to_datetime(df['listed_date'])\n",
    "df['Days Avaliable'] = (current_date - df['listed_date']).dt.days\n",
    "df = df.drop('listed_date', axis=1)\n",
    "df.head()"
   ]
  },
  {
   "cell_type": "code",
   "execution_count": 8,
   "metadata": {},
   "outputs": [],
   "source": [
    "# Drop missing price history data. ~25% of data.\n",
    "columns_with_missing_values = ['price_change', 'price_change_percentage']\n",
    "df = df.dropna(subset=columns_with_missing_values)"
   ]
  },
  {
   "cell_type": "code",
   "execution_count": 9,
   "metadata": {},
   "outputs": [
    {
     "data": {
      "text/html": [
       "<div>\n",
       "<style scoped>\n",
       "    .dataframe tbody tr th:only-of-type {\n",
       "        vertical-align: middle;\n",
       "    }\n",
       "\n",
       "    .dataframe tbody tr th {\n",
       "        vertical-align: top;\n",
       "    }\n",
       "\n",
       "    .dataframe thead th {\n",
       "        text-align: right;\n",
       "    }\n",
       "</style>\n",
       "<table border=\"1\" class=\"dataframe\">\n",
       "  <thead>\n",
       "    <tr style=\"text-align: right;\">\n",
       "      <th></th>\n",
       "      <th>listing_mileage</th>\n",
       "      <th>primary_price</th>\n",
       "      <th>drivetrain</th>\n",
       "      <th>transmission</th>\n",
       "      <th>seller_name</th>\n",
       "      <th>1-owner vehicle</th>\n",
       "      <th>Personal use only</th>\n",
       "      <th>Clean title</th>\n",
       "      <th>year</th>\n",
       "      <th>make</th>\n",
       "      <th>model</th>\n",
       "      <th>price_change</th>\n",
       "      <th>price_change_percentage</th>\n",
       "      <th>Cylinders</th>\n",
       "      <th>Liters</th>\n",
       "      <th>Boosted</th>\n",
       "      <th>exterior_color_1</th>\n",
       "      <th>low mpg</th>\n",
       "      <th>high mpg</th>\n",
       "      <th>Days Avaliable</th>\n",
       "    </tr>\n",
       "  </thead>\n",
       "  <tbody>\n",
       "    <tr>\n",
       "      <th>0</th>\n",
       "      <td>79497</td>\n",
       "      <td>17899</td>\n",
       "      <td>Front-wheel Drive</td>\n",
       "      <td>6-Speed Automatic</td>\n",
       "      <td>ETHIO Motors</td>\n",
       "      <td>True</td>\n",
       "      <td>False</td>\n",
       "      <td>True</td>\n",
       "      <td>2018</td>\n",
       "      <td>Hyundai</td>\n",
       "      <td>Santa Fe Sport 2.4L</td>\n",
       "      <td>-2400.0</td>\n",
       "      <td>-11.823243</td>\n",
       "      <td>4.0</td>\n",
       "      <td>2.4</td>\n",
       "      <td>False</td>\n",
       "      <td>blue</td>\n",
       "      <td>21.0</td>\n",
       "      <td>27.0</td>\n",
       "      <td>785.0</td>\n",
       "    </tr>\n",
       "    <tr>\n",
       "      <th>1</th>\n",
       "      <td>80326</td>\n",
       "      <td>27900</td>\n",
       "      <td>Four-wheel Drive</td>\n",
       "      <td>8-Speed Automatic</td>\n",
       "      <td>Custom Cars West</td>\n",
       "      <td>False</td>\n",
       "      <td>True</td>\n",
       "      <td>True</td>\n",
       "      <td>2017</td>\n",
       "      <td>RAM</td>\n",
       "      <td>1500 Express</td>\n",
       "      <td>-3085.0</td>\n",
       "      <td>-9.956431</td>\n",
       "      <td>8.0</td>\n",
       "      <td>5.7</td>\n",
       "      <td>False</td>\n",
       "      <td>silver</td>\n",
       "      <td>16.0</td>\n",
       "      <td>23.0</td>\n",
       "      <td>610.0</td>\n",
       "    </tr>\n",
       "    <tr>\n",
       "      <th>2</th>\n",
       "      <td>92959</td>\n",
       "      <td>18950</td>\n",
       "      <td>Front-wheel Drive</td>\n",
       "      <td>Automatic CVT</td>\n",
       "      <td>Custom Cars West</td>\n",
       "      <td>False</td>\n",
       "      <td>True</td>\n",
       "      <td>True</td>\n",
       "      <td>2019</td>\n",
       "      <td>Nissan</td>\n",
       "      <td>Kicks SR</td>\n",
       "      <td>-1030.0</td>\n",
       "      <td>-5.155155</td>\n",
       "      <td>4.0</td>\n",
       "      <td>1.6</td>\n",
       "      <td>False</td>\n",
       "      <td>orange</td>\n",
       "      <td>31.0</td>\n",
       "      <td>36.0</td>\n",
       "      <td>578.0</td>\n",
       "    </tr>\n",
       "    <tr>\n",
       "      <th>3</th>\n",
       "      <td>59176</td>\n",
       "      <td>39950</td>\n",
       "      <td>Four-wheel Drive</td>\n",
       "      <td>8-Speed Automatic</td>\n",
       "      <td>Custom Cars West</td>\n",
       "      <td>False</td>\n",
       "      <td>False</td>\n",
       "      <td>True</td>\n",
       "      <td>2019</td>\n",
       "      <td>RAM</td>\n",
       "      <td>1500 Laramie</td>\n",
       "      <td>-573.0</td>\n",
       "      <td>-1.414012</td>\n",
       "      <td>8.0</td>\n",
       "      <td>5.7</td>\n",
       "      <td>False</td>\n",
       "      <td>gray</td>\n",
       "      <td>19.0</td>\n",
       "      <td>24.0</td>\n",
       "      <td>532.0</td>\n",
       "    </tr>\n",
       "    <tr>\n",
       "      <th>4</th>\n",
       "      <td>135385</td>\n",
       "      <td>26950</td>\n",
       "      <td>Four-wheel Drive</td>\n",
       "      <td>-</td>\n",
       "      <td>Custom Cars West</td>\n",
       "      <td>False</td>\n",
       "      <td>True</td>\n",
       "      <td>True</td>\n",
       "      <td>2015</td>\n",
       "      <td>Jeep</td>\n",
       "      <td>Wrangler Unlimited Rubicon</td>\n",
       "      <td>-3000.0</td>\n",
       "      <td>-10.016694</td>\n",
       "      <td>6.0</td>\n",
       "      <td>3.6</td>\n",
       "      <td>False</td>\n",
       "      <td>blue</td>\n",
       "      <td>16.0</td>\n",
       "      <td>21.0</td>\n",
       "      <td>663.0</td>\n",
       "    </tr>\n",
       "  </tbody>\n",
       "</table>\n",
       "</div>"
      ],
      "text/plain": [
       "   listing_mileage  primary_price         drivetrain       transmission  \\\n",
       "0            79497          17899  Front-wheel Drive  6-Speed Automatic   \n",
       "1            80326          27900   Four-wheel Drive  8-Speed Automatic   \n",
       "2            92959          18950  Front-wheel Drive      Automatic CVT   \n",
       "3            59176          39950   Four-wheel Drive  8-Speed Automatic   \n",
       "4           135385          26950   Four-wheel Drive                  -   \n",
       "\n",
       "        seller_name  1-owner vehicle  Personal use only  Clean title  year  \\\n",
       "0      ETHIO Motors             True              False         True  2018   \n",
       "1  Custom Cars West            False               True         True  2017   \n",
       "2  Custom Cars West            False               True         True  2019   \n",
       "3  Custom Cars West            False              False         True  2019   \n",
       "4  Custom Cars West            False               True         True  2015   \n",
       "\n",
       "      make                       model  price_change  price_change_percentage  \\\n",
       "0  Hyundai         Santa Fe Sport 2.4L       -2400.0               -11.823243   \n",
       "1      RAM                1500 Express       -3085.0                -9.956431   \n",
       "2   Nissan                    Kicks SR       -1030.0                -5.155155   \n",
       "3      RAM                1500 Laramie        -573.0                -1.414012   \n",
       "4     Jeep  Wrangler Unlimited Rubicon       -3000.0               -10.016694   \n",
       "\n",
       "   Cylinders  Liters  Boosted exterior_color_1  low mpg  high mpg  \\\n",
       "0        4.0     2.4    False             blue     21.0      27.0   \n",
       "1        8.0     5.7    False           silver     16.0      23.0   \n",
       "2        4.0     1.6    False           orange     31.0      36.0   \n",
       "3        8.0     5.7    False             gray     19.0      24.0   \n",
       "4        6.0     3.6    False             blue     16.0      21.0   \n",
       "\n",
       "   Days Avaliable  \n",
       "0           785.0  \n",
       "1           610.0  \n",
       "2           578.0  \n",
       "3           532.0  \n",
       "4           663.0  "
      ]
     },
     "execution_count": 9,
     "metadata": {},
     "output_type": "execute_result"
    }
   ],
   "source": [
    "df.head()"
   ]
  },
  {
   "cell_type": "code",
   "execution_count": 10,
   "metadata": {},
   "outputs": [
    {
     "data": {
      "text/plain": [
       "(3860, 20)"
      ]
     },
     "execution_count": 10,
     "metadata": {},
     "output_type": "execute_result"
    }
   ],
   "source": [
    "df.shape"
   ]
  },
  {
   "cell_type": "markdown",
   "metadata": {},
   "source": [
    "### outcome variable: primary_price\n",
    "### ocluded variables: price_change\tprice_change_percentage"
   ]
  },
  {
   "cell_type": "code",
   "execution_count": 11,
   "metadata": {},
   "outputs": [],
   "source": [
    "# Drop 'price_change' and 'price_change_percentage' to avoid data leakage\n",
    "columns_to_drop = ['price_change', 'price_change_percentage']\n",
    "df = df.drop(columns=columns_to_drop)"
   ]
  },
  {
   "cell_type": "markdown",
   "metadata": {},
   "source": [
    "## Categorical variables"
   ]
  },
  {
   "cell_type": "code",
   "execution_count": 12,
   "metadata": {},
   "outputs": [
    {
     "name": "stdout",
     "output_type": "stream",
     "text": [
      "Unique values for seller_name: 122\n",
      "Unique values for drivetrain: 6\n",
      "Unique values for transmission: 83\n",
      "Unique values for make: 47\n",
      "Unique values for model: 1405\n",
      "Unique values for exterior_color_1: 13\n"
     ]
    }
   ],
   "source": [
    "categorical_columns = ['seller_name', 'drivetrain', 'transmission', 'make', 'model', 'exterior_color_1']\n",
    "\n",
    "# Check how many unique values there are in categorical_columns\n",
    "for column in categorical_columns:\n",
    "    unique_values = df[column].nunique()\n",
    "    print(f\"Unique values for {column}:\", unique_values)\n",
    "\n",
    "# Models has a large number of unique values\n",
    "# seller_name, transmission, make, model have a large number of unique values\n",
    "# Consider embedding these instead of one-hot encode"
   ]
  },
  {
   "cell_type": "code",
   "execution_count": 13,
   "metadata": {},
   "outputs": [],
   "source": [
    "X = df.drop('primary_price', axis=1)  # Features\n",
    "y = df['primary_price']  # Target"
   ]
  },
  {
   "cell_type": "code",
   "execution_count": 14,
   "metadata": {},
   "outputs": [
    {
     "data": {
      "text/plain": [
       "listing_mileage        int64\n",
       "drivetrain            object\n",
       "transmission          object\n",
       "seller_name           object\n",
       "1-owner vehicle         bool\n",
       "Personal use only       bool\n",
       "Clean title             bool\n",
       "year                   int64\n",
       "make                  object\n",
       "model                 object\n",
       "Cylinders            float64\n",
       "Liters               float64\n",
       "Boosted                 bool\n",
       "exterior_color_1      object\n",
       "low mpg              float64\n",
       "high mpg             float64\n",
       "Days Avaliable       float64\n",
       "dtype: object"
      ]
     },
     "execution_count": 14,
     "metadata": {},
     "output_type": "execute_result"
    }
   ],
   "source": [
    "X.dtypes"
   ]
  },
  {
   "cell_type": "code",
   "execution_count": 15,
   "metadata": {},
   "outputs": [
    {
     "data": {
      "text/plain": [
       "dtype('int64')"
      ]
     },
     "execution_count": 15,
     "metadata": {},
     "output_type": "execute_result"
    }
   ],
   "source": [
    "y.dtype"
   ]
  },
  {
   "cell_type": "code",
   "execution_count": 16,
   "metadata": {},
   "outputs": [],
   "source": [
    "### One-hot Encode \n",
    "X = pd.get_dummies(X, columns=categorical_columns)"
   ]
  },
  {
   "cell_type": "code",
   "execution_count": 17,
   "metadata": {},
   "outputs": [
    {
     "data": {
      "text/plain": [
       "(3860, 1687)"
      ]
     },
     "execution_count": 17,
     "metadata": {},
     "output_type": "execute_result"
    }
   ],
   "source": [
    "X.shape"
   ]
  },
  {
   "cell_type": "code",
   "execution_count": 18,
   "metadata": {},
   "outputs": [
    {
     "name": "stdout",
     "output_type": "stream",
     "text": [
      "Unsupported Data Types:\n"
     ]
    }
   ],
   "source": [
    "# Check that X doesn't have object data\n",
    "unsupported_types = []\n",
    "\n",
    "for column in X.columns:\n",
    "    dtype = X[column].dtype\n",
    "    if dtype == 'object':\n",
    "        unsupported_types.append((column, dtype))\n",
    "\n",
    "print(\"Unsupported Data Types:\")\n",
    "for column, dtype in unsupported_types:\n",
    "    print(f\"{column}: {dtype}\")\n"
   ]
  },
  {
   "cell_type": "code",
   "execution_count": 19,
   "metadata": {},
   "outputs": [
    {
     "data": {
      "text/html": [
       "<div>\n",
       "<style scoped>\n",
       "    .dataframe tbody tr th:only-of-type {\n",
       "        vertical-align: middle;\n",
       "    }\n",
       "\n",
       "    .dataframe tbody tr th {\n",
       "        vertical-align: top;\n",
       "    }\n",
       "\n",
       "    .dataframe thead th {\n",
       "        text-align: right;\n",
       "    }\n",
       "</style>\n",
       "<table border=\"1\" class=\"dataframe\">\n",
       "  <thead>\n",
       "    <tr style=\"text-align: right;\">\n",
       "      <th></th>\n",
       "      <th>listing_mileage</th>\n",
       "      <th>primary_price</th>\n",
       "      <th>drivetrain</th>\n",
       "      <th>transmission</th>\n",
       "      <th>seller_name</th>\n",
       "      <th>1-owner vehicle</th>\n",
       "      <th>Personal use only</th>\n",
       "      <th>Clean title</th>\n",
       "      <th>year</th>\n",
       "      <th>make</th>\n",
       "      <th>model</th>\n",
       "      <th>Cylinders</th>\n",
       "      <th>Liters</th>\n",
       "      <th>Boosted</th>\n",
       "      <th>exterior_color_1</th>\n",
       "      <th>low mpg</th>\n",
       "      <th>high mpg</th>\n",
       "      <th>Days Avaliable</th>\n",
       "    </tr>\n",
       "  </thead>\n",
       "  <tbody>\n",
       "    <tr>\n",
       "      <th>0</th>\n",
       "      <td>79497</td>\n",
       "      <td>17899</td>\n",
       "      <td>Front-wheel Drive</td>\n",
       "      <td>6-Speed Automatic</td>\n",
       "      <td>ETHIO Motors</td>\n",
       "      <td>True</td>\n",
       "      <td>False</td>\n",
       "      <td>True</td>\n",
       "      <td>2018</td>\n",
       "      <td>Hyundai</td>\n",
       "      <td>Santa Fe Sport 2.4L</td>\n",
       "      <td>4.0</td>\n",
       "      <td>2.4</td>\n",
       "      <td>False</td>\n",
       "      <td>blue</td>\n",
       "      <td>21.0</td>\n",
       "      <td>27.0</td>\n",
       "      <td>785.0</td>\n",
       "    </tr>\n",
       "    <tr>\n",
       "      <th>1</th>\n",
       "      <td>80326</td>\n",
       "      <td>27900</td>\n",
       "      <td>Four-wheel Drive</td>\n",
       "      <td>8-Speed Automatic</td>\n",
       "      <td>Custom Cars West</td>\n",
       "      <td>False</td>\n",
       "      <td>True</td>\n",
       "      <td>True</td>\n",
       "      <td>2017</td>\n",
       "      <td>RAM</td>\n",
       "      <td>1500 Express</td>\n",
       "      <td>8.0</td>\n",
       "      <td>5.7</td>\n",
       "      <td>False</td>\n",
       "      <td>silver</td>\n",
       "      <td>16.0</td>\n",
       "      <td>23.0</td>\n",
       "      <td>610.0</td>\n",
       "    </tr>\n",
       "    <tr>\n",
       "      <th>2</th>\n",
       "      <td>92959</td>\n",
       "      <td>18950</td>\n",
       "      <td>Front-wheel Drive</td>\n",
       "      <td>Automatic CVT</td>\n",
       "      <td>Custom Cars West</td>\n",
       "      <td>False</td>\n",
       "      <td>True</td>\n",
       "      <td>True</td>\n",
       "      <td>2019</td>\n",
       "      <td>Nissan</td>\n",
       "      <td>Kicks SR</td>\n",
       "      <td>4.0</td>\n",
       "      <td>1.6</td>\n",
       "      <td>False</td>\n",
       "      <td>orange</td>\n",
       "      <td>31.0</td>\n",
       "      <td>36.0</td>\n",
       "      <td>578.0</td>\n",
       "    </tr>\n",
       "    <tr>\n",
       "      <th>3</th>\n",
       "      <td>59176</td>\n",
       "      <td>39950</td>\n",
       "      <td>Four-wheel Drive</td>\n",
       "      <td>8-Speed Automatic</td>\n",
       "      <td>Custom Cars West</td>\n",
       "      <td>False</td>\n",
       "      <td>False</td>\n",
       "      <td>True</td>\n",
       "      <td>2019</td>\n",
       "      <td>RAM</td>\n",
       "      <td>1500 Laramie</td>\n",
       "      <td>8.0</td>\n",
       "      <td>5.7</td>\n",
       "      <td>False</td>\n",
       "      <td>gray</td>\n",
       "      <td>19.0</td>\n",
       "      <td>24.0</td>\n",
       "      <td>532.0</td>\n",
       "    </tr>\n",
       "    <tr>\n",
       "      <th>4</th>\n",
       "      <td>135385</td>\n",
       "      <td>26950</td>\n",
       "      <td>Four-wheel Drive</td>\n",
       "      <td>-</td>\n",
       "      <td>Custom Cars West</td>\n",
       "      <td>False</td>\n",
       "      <td>True</td>\n",
       "      <td>True</td>\n",
       "      <td>2015</td>\n",
       "      <td>Jeep</td>\n",
       "      <td>Wrangler Unlimited Rubicon</td>\n",
       "      <td>6.0</td>\n",
       "      <td>3.6</td>\n",
       "      <td>False</td>\n",
       "      <td>blue</td>\n",
       "      <td>16.0</td>\n",
       "      <td>21.0</td>\n",
       "      <td>663.0</td>\n",
       "    </tr>\n",
       "  </tbody>\n",
       "</table>\n",
       "</div>"
      ],
      "text/plain": [
       "   listing_mileage  primary_price         drivetrain       transmission  \\\n",
       "0            79497          17899  Front-wheel Drive  6-Speed Automatic   \n",
       "1            80326          27900   Four-wheel Drive  8-Speed Automatic   \n",
       "2            92959          18950  Front-wheel Drive      Automatic CVT   \n",
       "3            59176          39950   Four-wheel Drive  8-Speed Automatic   \n",
       "4           135385          26950   Four-wheel Drive                  -   \n",
       "\n",
       "        seller_name  1-owner vehicle  Personal use only  Clean title  year  \\\n",
       "0      ETHIO Motors             True              False         True  2018   \n",
       "1  Custom Cars West            False               True         True  2017   \n",
       "2  Custom Cars West            False               True         True  2019   \n",
       "3  Custom Cars West            False              False         True  2019   \n",
       "4  Custom Cars West            False               True         True  2015   \n",
       "\n",
       "      make                       model  Cylinders  Liters  Boosted  \\\n",
       "0  Hyundai         Santa Fe Sport 2.4L        4.0     2.4    False   \n",
       "1      RAM                1500 Express        8.0     5.7    False   \n",
       "2   Nissan                    Kicks SR        4.0     1.6    False   \n",
       "3      RAM                1500 Laramie        8.0     5.7    False   \n",
       "4     Jeep  Wrangler Unlimited Rubicon        6.0     3.6    False   \n",
       "\n",
       "  exterior_color_1  low mpg  high mpg  Days Avaliable  \n",
       "0             blue     21.0      27.0           785.0  \n",
       "1           silver     16.0      23.0           610.0  \n",
       "2           orange     31.0      36.0           578.0  \n",
       "3             gray     19.0      24.0           532.0  \n",
       "4             blue     16.0      21.0           663.0  "
      ]
     },
     "execution_count": 19,
     "metadata": {},
     "output_type": "execute_result"
    }
   ],
   "source": [
    "df.head()"
   ]
  },
  {
   "cell_type": "markdown",
   "metadata": {},
   "source": [
    "## Split data into 80% training set and 20% validation set."
   ]
  },
  {
   "cell_type": "code",
   "execution_count": 20,
   "metadata": {},
   "outputs": [],
   "source": [
    "# Split the data into training and validation sets\n",
    "X_train, X_val, y_train, y_val = train_test_split(X, y, test_size=0.2, random_state=42)\n",
    "\n",
    "# Convert all columns to float\n",
    "X_train = X_train.astype(float)\n",
    "X_val = X_val.astype(float)\n",
    "y_train = y_train.astype(float)\n",
    "y_val = y_val.astype(float)\n",
    "\n",
    "# Convert data to numpy array\n",
    "X_train = X_train.to_numpy()\n",
    "X_val = X_val.to_numpy()\n",
    "y_train = y_train.to_numpy()\n",
    "y_val = y_val.to_numpy()"
   ]
  },
  {
   "cell_type": "code",
   "execution_count": 21,
   "metadata": {},
   "outputs": [
    {
     "name": "stdout",
     "output_type": "stream",
     "text": [
      "X_train shape: (3088, 1687)\n",
      "X_val shape: (772, 1687)\n",
      "y_train shape: (3088,)\n",
      "y_val shape: (772,)\n"
     ]
    }
   ],
   "source": [
    "print(\"X_train shape:\", X_train.shape)\n",
    "print(\"X_val shape:\", X_val.shape)\n",
    "print(\"y_train shape:\", y_train.shape)\n",
    "print(\"y_val shape:\", y_val.shape)"
   ]
  },
  {
   "cell_type": "code",
   "execution_count": 377,
   "metadata": {},
   "outputs": [],
   "source": [
    "# Convert NumPy arrays to PyTorch tensors\n",
    "X_train_tensor = torch.Tensor(X_train)\n",
    "y_train_tensor = torch.Tensor(y_train)\n",
    "X_val_tensor = torch.Tensor(X_val)\n",
    "y_val_tensor = torch.Tensor(y_val)"
   ]
  },
  {
   "cell_type": "markdown",
   "metadata": {},
   "source": [
    "## Deep Neural Net"
   ]
  },
  {
   "cell_type": "code",
   "execution_count": 378,
   "metadata": {},
   "outputs": [
    {
     "name": "stdout",
     "output_type": "stream",
     "text": [
      "Epoch [10/1000], Training Loss: 1664718976.0\n",
      "Epoch [20/1000], Training Loss: 1431786240.0\n",
      "Epoch [30/1000], Training Loss: 1401810176.0\n",
      "Epoch [40/1000], Training Loss: 1398265856.0\n",
      "Epoch [50/1000], Training Loss: 1358814208.0\n",
      "Epoch [60/1000], Training Loss: 1278699776.0\n",
      "Epoch [70/1000], Training Loss: 1119777024.0\n",
      "Epoch [80/1000], Training Loss: 853405824.0\n",
      "Epoch [90/1000], Training Loss: 621425088.0\n",
      "Epoch [100/1000], Training Loss: 632782336.0\n",
      "Epoch [110/1000], Training Loss: 629511808.0\n",
      "Epoch [120/1000], Training Loss: 607226176.0\n",
      "Epoch [130/1000], Training Loss: 626817024.0\n",
      "Epoch [140/1000], Training Loss: 605750720.0\n",
      "Epoch [150/1000], Training Loss: 612739200.0\n",
      "Epoch [160/1000], Training Loss: 594208064.0\n",
      "Epoch [170/1000], Training Loss: 624757888.0\n",
      "Epoch [180/1000], Training Loss: 599455616.0\n",
      "Epoch [190/1000], Training Loss: 617850688.0\n",
      "Epoch [200/1000], Training Loss: 603488512.0\n",
      "Epoch [210/1000], Training Loss: 611847296.0\n",
      "Epoch [220/1000], Training Loss: 603994304.0\n",
      "Epoch [230/1000], Training Loss: 603538752.0\n",
      "Epoch [240/1000], Training Loss: 591798784.0\n",
      "Epoch [250/1000], Training Loss: 595528704.0\n",
      "Epoch [260/1000], Training Loss: 585631872.0\n",
      "Epoch [270/1000], Training Loss: 604317568.0\n",
      "Epoch [280/1000], Training Loss: 613085952.0\n",
      "Epoch [290/1000], Training Loss: 603958400.0\n",
      "Epoch [300/1000], Training Loss: 603545088.0\n",
      "Epoch [310/1000], Training Loss: 607860928.0\n",
      "Epoch [320/1000], Training Loss: 607418816.0\n",
      "Epoch [330/1000], Training Loss: 579485696.0\n",
      "Epoch [340/1000], Training Loss: 603777152.0\n",
      "Epoch [350/1000], Training Loss: 610669568.0\n",
      "Epoch [360/1000], Training Loss: 593373760.0\n",
      "Epoch [370/1000], Training Loss: 586663104.0\n",
      "Epoch [380/1000], Training Loss: 591887296.0\n",
      "Epoch [390/1000], Training Loss: 590021056.0\n",
      "Epoch [400/1000], Training Loss: 585337088.0\n",
      "Epoch [410/1000], Training Loss: 593387648.0\n",
      "Epoch [420/1000], Training Loss: 585207232.0\n",
      "Epoch [430/1000], Training Loss: 582437440.0\n"
     ]
    }
   ],
   "source": [
    "class NeuralNetwork(nn.Module):\n",
    "    def __init__(self, input_size):\n",
    "        super(NeuralNetwork, self).__init__()\n",
    "        self.fc1 = nn.Linear(input_size, 256)\n",
    "        self.relu1 = nn.ReLU()\n",
    "        self.dropout1 = nn.Dropout(0.5)\n",
    "        self.fc2 = nn.Linear(256, 128)\n",
    "        self.relu2 = nn.ReLU()\n",
    "        self.dropout2 = nn.Dropout(0.5)\n",
    "        self.fc3 = nn.Linear(128, 64)\n",
    "        self.relu3 = nn.ReLU()\n",
    "        self.dropout3 = nn.Dropout(0.5)\n",
    "        self.fc4 = nn.Linear(64, 1)  # Output layer for regression\n",
    "\n",
    "    def forward(self, x):\n",
    "        x = self.fc1(x)\n",
    "        x = self.relu1(x)\n",
    "        x = self.dropout1(x)\n",
    "        x = self.fc2(x)\n",
    "        x = self.relu2(x)\n",
    "        x = self.dropout2(x)\n",
    "        x = self.fc3(x)\n",
    "        x = self.relu3(x)\n",
    "        x = self.dropout3(x)\n",
    "        x = self.fc4(x)\n",
    "        return x\n",
    "\n",
    "# Create the model\n",
    "input_size = X_train_tensor.shape[1]\n",
    "model = NeuralNetwork(input_size)\n",
    "\n",
    "# Loss function for regression\n",
    "criterion = nn.MSELoss()\n",
    "\n",
    "# Optimizer\n",
    "optimizer = optim.Adam(model.parameters(), lr=0.001)\n",
    "\n",
    "# Training loop\n",
    "epochs = 1000\n",
    "for epoch in range(epochs):\n",
    "    # Forward pass\n",
    "    outputs = model(X_train_tensor)\n",
    "    loss = criterion(outputs, y_train_tensor.view(-1, 1))\n",
    "    \n",
    "    # Backward pass and optimization\n",
    "    optimizer.zero_grad()\n",
    "    loss.backward()\n",
    "    optimizer.step()\n",
    "    \n",
    "    # Calculate training accuracy\n",
    "    with torch.no_grad():\n",
    "        train_outputs = model(X_train_tensor)\n",
    "        train_loss = criterion(train_outputs, y_train_tensor.view(-1, 1))\n",
    "    \n",
    "    # Print training loss\n",
    "    if (epoch+1) % 10 == 0:\n",
    "        print(f'Epoch [{epoch+1}/{epochs}], Training Loss: {train_loss.item()}')\n"
   ]
  },
  {
   "cell_type": "code",
   "execution_count": null,
   "metadata": {},
   "outputs": [],
   "source": [
    "def evaluate_model(model, X, y, criterion):\n",
    "    with torch.no_grad():\n",
    "        outputs = model(X)\n",
    "        loss = criterion(outputs, y.view(-1, 1))\n",
    "\n",
    "        # Convert predictions and labels back to numpy arrays\n",
    "        predictions = outputs.view(-1).detach().numpy()\n",
    "        labels = y.numpy()\n",
    "\n",
    "        # Calculate additional metrics\n",
    "        mae = mean_absolute_error(labels, predictions)\n",
    "        rmse = mean_squared_error(labels, predictions, squared=False)\n",
    "\n",
    "    return loss.item(), mae, rmse\n",
    "\n",
    "\n",
    "# Print final evaluation\n",
    "train_loss, train_mae, train_rmse = evaluate_model(model, X_train_tensor, y_train_tensor, criterion)\n",
    "print(f\"Final Training Loss: {train_loss:.4f}, MAE: {train_mae:.4f}, RMSE: {train_rmse:.4f}\")\n",
    "\n",
    "val_loss, val_mae, val_rmse = evaluate_model(model, X_val_tensor, y_val_tensor, criterion)\n",
    "print(f\"Final Validation Loss: {val_loss:.4f}, MAE: {val_mae:.4f}, RMSE: {val_rmse:.4f}\")"
   ]
  },
  {
   "cell_type": "markdown",
   "metadata": {},
   "source": [
    "## Linear Regression"
   ]
  },
  {
   "cell_type": "code",
   "execution_count": 22,
   "metadata": {},
   "outputs": [
    {
     "name": "stdout",
     "output_type": "stream",
     "text": [
      "Training accuracy (the coefficient of determination): 0.988\n"
     ]
    }
   ],
   "source": [
    "# Setup model\n",
    "m = LinearRegression()\n",
    "# Give input and output data\n",
    "m.fit(X_train, y_train)\n",
    "print('Training accuracy (the coefficient of determination): {:.3f}'.format(m.score(X_train, y_train)))"
   ]
  },
  {
   "cell_type": "markdown",
   "metadata": {},
   "source": [
    "#### Test the model on the test data"
   ]
  },
  {
   "cell_type": "code",
   "execution_count": 23,
   "metadata": {},
   "outputs": [],
   "source": [
    "prediction = m.predict(X_val)"
   ]
  },
  {
   "cell_type": "code",
   "execution_count": 24,
   "metadata": {},
   "outputs": [
    {
     "name": "stdout",
     "output_type": "stream",
     "text": [
      "Testing accuracy by using score function: 0.505\n",
      "Testing accuracy by using r2_score meric: 0.505\n"
     ]
    }
   ],
   "source": [
    "print('Testing accuracy by using score function: {:.3f}'.format(m.score(X_val, y_val)))\n",
    "print('Testing accuracy by using r2_score meric: {:.3f}'.format(r2_score(y_val, m.predict(X_val))))"
   ]
  },
  {
   "cell_type": "code",
   "execution_count": 25,
   "metadata": {},
   "outputs": [
    {
     "data": {
      "text/plain": [
       "5638.067495729938"
      ]
     },
     "execution_count": 25,
     "metadata": {},
     "output_type": "execute_result"
    }
   ],
   "source": [
    "mean_absolute_error(y_val, prediction)"
   ]
  },
  {
   "cell_type": "markdown",
   "metadata": {},
   "source": [
    "#### Add statsmodel for p-value"
   ]
  },
  {
   "cell_type": "code",
   "execution_count": 26,
   "metadata": {},
   "outputs": [
    {
     "ename": "ValueError",
     "evalue": "shapes (3088,1687) and (3088,1687) not aligned: 1687 (dim 1) != 3088 (dim 0)",
     "output_type": "error",
     "traceback": [
      "\u001b[0;31m---------------------------------------------------------------------------\u001b[0m",
      "\u001b[0;31mValueError\u001b[0m                                Traceback (most recent call last)",
      "Cell \u001b[0;32mIn [26], line 3\u001b[0m\n\u001b[1;32m      1\u001b[0m model \u001b[38;5;241m=\u001b[39m sm\u001b[38;5;241m.\u001b[39mOLS(X_train, y_train)\u001b[38;5;241m.\u001b[39mfit()\n\u001b[1;32m      2\u001b[0m \u001b[38;5;66;03m# Get the summary of the regression\u001b[39;00m\n\u001b[0;32m----> 3\u001b[0m summary \u001b[38;5;241m=\u001b[39m \u001b[43mmodel\u001b[49m\u001b[38;5;241;43m.\u001b[39;49m\u001b[43msummary\u001b[49m\u001b[43m(\u001b[49m\u001b[43m)\u001b[49m\n\u001b[1;32m      5\u001b[0m \u001b[38;5;66;03m# Extract the p-values for each coefficient\u001b[39;00m\n\u001b[1;32m      6\u001b[0m p_values \u001b[38;5;241m=\u001b[39m summary\u001b[38;5;241m.\u001b[39mtables[\u001b[38;5;241m1\u001b[39m][\u001b[38;5;124m'\u001b[39m\u001b[38;5;124mP>|t|\u001b[39m\u001b[38;5;124m'\u001b[39m]\n",
      "File \u001b[0;32m/Library/Frameworks/Python.framework/Versions/3.10/lib/python3.10/site-packages/statsmodels/regression/linear_model.py:2774\u001b[0m, in \u001b[0;36mRegressionResults.summary\u001b[0;34m(self, yname, xname, title, alpha, slim)\u001b[0m\n\u001b[1;32m   2770\u001b[0m     top_left\u001b[39m.\u001b[39mappend((\u001b[39m'\u001b[39m\u001b[39mCovariance Type:\u001b[39m\u001b[39m'\u001b[39m, [\u001b[39mself\u001b[39m\u001b[39m.\u001b[39mcov_type]))\n\u001b[1;32m   2772\u001b[0m rsquared_type \u001b[39m=\u001b[39m \u001b[39m'\u001b[39m\u001b[39m'\u001b[39m \u001b[39mif\u001b[39;00m \u001b[39mself\u001b[39m\u001b[39m.\u001b[39mk_constant \u001b[39melse\u001b[39;00m \u001b[39m'\u001b[39m\u001b[39m (uncentered)\u001b[39m\u001b[39m'\u001b[39m\n\u001b[1;32m   2773\u001b[0m top_right \u001b[39m=\u001b[39m [(\u001b[39m'\u001b[39m\u001b[39mR-squared\u001b[39m\u001b[39m'\u001b[39m \u001b[39m+\u001b[39m rsquared_type \u001b[39m+\u001b[39m \u001b[39m'\u001b[39m\u001b[39m:\u001b[39m\u001b[39m'\u001b[39m,\n\u001b[0;32m-> 2774\u001b[0m               [\u001b[39m\"\u001b[39m\u001b[39m%#8.3f\u001b[39;00m\u001b[39m\"\u001b[39m \u001b[39m%\u001b[39m \u001b[39mself\u001b[39;49m\u001b[39m.\u001b[39;49mrsquared]),\n\u001b[1;32m   2775\u001b[0m              (\u001b[39m'\u001b[39m\u001b[39mAdj. R-squared\u001b[39m\u001b[39m'\u001b[39m \u001b[39m+\u001b[39m rsquared_type \u001b[39m+\u001b[39m \u001b[39m'\u001b[39m\u001b[39m:\u001b[39m\u001b[39m'\u001b[39m,\n\u001b[1;32m   2776\u001b[0m               [\u001b[39m\"\u001b[39m\u001b[39m%#8.3f\u001b[39;00m\u001b[39m\"\u001b[39m \u001b[39m%\u001b[39m \u001b[39mself\u001b[39m\u001b[39m.\u001b[39mrsquared_adj]),\n\u001b[1;32m   2777\u001b[0m              (\u001b[39m'\u001b[39m\u001b[39mF-statistic:\u001b[39m\u001b[39m'\u001b[39m, [\u001b[39m\"\u001b[39m\u001b[39m%#8.4g\u001b[39;00m\u001b[39m\"\u001b[39m \u001b[39m%\u001b[39m \u001b[39mself\u001b[39m\u001b[39m.\u001b[39mfvalue]),\n\u001b[1;32m   2778\u001b[0m              (\u001b[39m'\u001b[39m\u001b[39mProb (F-statistic):\u001b[39m\u001b[39m'\u001b[39m, [\u001b[39m\"\u001b[39m\u001b[39m%#6.3g\u001b[39;00m\u001b[39m\"\u001b[39m \u001b[39m%\u001b[39m \u001b[39mself\u001b[39m\u001b[39m.\u001b[39mf_pvalue]),\n\u001b[1;32m   2779\u001b[0m              (\u001b[39m'\u001b[39m\u001b[39mLog-Likelihood:\u001b[39m\u001b[39m'\u001b[39m, \u001b[39mNone\u001b[39;00m),\n\u001b[1;32m   2780\u001b[0m              (\u001b[39m'\u001b[39m\u001b[39mAIC:\u001b[39m\u001b[39m'\u001b[39m, [\u001b[39m\"\u001b[39m\u001b[39m%#8.4g\u001b[39;00m\u001b[39m\"\u001b[39m \u001b[39m%\u001b[39m \u001b[39mself\u001b[39m\u001b[39m.\u001b[39maic]),\n\u001b[1;32m   2781\u001b[0m              (\u001b[39m'\u001b[39m\u001b[39mBIC:\u001b[39m\u001b[39m'\u001b[39m, [\u001b[39m\"\u001b[39m\u001b[39m%#8.4g\u001b[39;00m\u001b[39m\"\u001b[39m \u001b[39m%\u001b[39m \u001b[39mself\u001b[39m\u001b[39m.\u001b[39mbic])\n\u001b[1;32m   2782\u001b[0m              ]\n\u001b[1;32m   2784\u001b[0m \u001b[39mif\u001b[39;00m slim:\n\u001b[1;32m   2785\u001b[0m     slimlist \u001b[39m=\u001b[39m [\u001b[39m'\u001b[39m\u001b[39mDep. Variable:\u001b[39m\u001b[39m'\u001b[39m, \u001b[39m'\u001b[39m\u001b[39mModel:\u001b[39m\u001b[39m'\u001b[39m, \u001b[39m'\u001b[39m\u001b[39mNo. Observations:\u001b[39m\u001b[39m'\u001b[39m,\n\u001b[1;32m   2786\u001b[0m                 \u001b[39m'\u001b[39m\u001b[39mCovariance Type:\u001b[39m\u001b[39m'\u001b[39m, \u001b[39m'\u001b[39m\u001b[39mR-squared:\u001b[39m\u001b[39m'\u001b[39m, \u001b[39m'\u001b[39m\u001b[39mAdj. R-squared:\u001b[39m\u001b[39m'\u001b[39m,\n\u001b[1;32m   2787\u001b[0m                 \u001b[39m'\u001b[39m\u001b[39mF-statistic:\u001b[39m\u001b[39m'\u001b[39m, \u001b[39m'\u001b[39m\u001b[39mProb (F-statistic):\u001b[39m\u001b[39m'\u001b[39m]\n",
      "File \u001b[0;32m/Library/Frameworks/Python.framework/Versions/3.10/lib/python3.10/site-packages/pandas/_libs/properties.pyx:36\u001b[0m, in \u001b[0;36mpandas._libs.properties.CachedProperty.__get__\u001b[0;34m()\u001b[0m\n",
      "File \u001b[0;32m/Library/Frameworks/Python.framework/Versions/3.10/lib/python3.10/site-packages/statsmodels/regression/linear_model.py:1783\u001b[0m, in \u001b[0;36mRegressionResults.rsquared\u001b[0;34m(self)\u001b[0m\n\u001b[1;32m   1781\u001b[0m     \u001b[39mreturn\u001b[39;00m \u001b[39m1\u001b[39m \u001b[39m-\u001b[39m \u001b[39mself\u001b[39m\u001b[39m.\u001b[39mssr\u001b[39m/\u001b[39m\u001b[39mself\u001b[39m\u001b[39m.\u001b[39mcentered_tss\n\u001b[1;32m   1782\u001b[0m \u001b[39melse\u001b[39;00m:\n\u001b[0;32m-> 1783\u001b[0m     \u001b[39mreturn\u001b[39;00m \u001b[39m1\u001b[39m \u001b[39m-\u001b[39m \u001b[39mself\u001b[39;49m\u001b[39m.\u001b[39;49mssr\u001b[39m/\u001b[39m\u001b[39mself\u001b[39m\u001b[39m.\u001b[39muncentered_tss\n",
      "File \u001b[0;32m/Library/Frameworks/Python.framework/Versions/3.10/lib/python3.10/site-packages/pandas/_libs/properties.pyx:36\u001b[0m, in \u001b[0;36mpandas._libs.properties.CachedProperty.__get__\u001b[0;34m()\u001b[0m\n",
      "File \u001b[0;32m/Library/Frameworks/Python.framework/Versions/3.10/lib/python3.10/site-packages/statsmodels/regression/linear_model.py:1722\u001b[0m, in \u001b[0;36mRegressionResults.ssr\u001b[0;34m(self)\u001b[0m\n\u001b[1;32m   1720\u001b[0m \u001b[39m\"\"\"Sum of squared (whitened) residuals.\"\"\"\u001b[39;00m\n\u001b[1;32m   1721\u001b[0m wresid \u001b[39m=\u001b[39m \u001b[39mself\u001b[39m\u001b[39m.\u001b[39mwresid\n\u001b[0;32m-> 1722\u001b[0m \u001b[39mreturn\u001b[39;00m np\u001b[39m.\u001b[39;49mdot(wresid, wresid)\n",
      "\u001b[0;31mValueError\u001b[0m: shapes (3088,1687) and (3088,1687) not aligned: 1687 (dim 1) != 3088 (dim 0)"
     ]
    }
   ],
   "source": [
    "model = sm.OLS(X_train, y_train).fit()\n",
    "# Get the summary of the regression\n",
    "summary = model.summary()\n",
    "\n",
    "# Extract the p-values for each coefficient\n",
    "p_values = summary.tables[1]['P>|t|']\n",
    "\n",
    "# Display the p-values\n",
    "print(p_values)"
   ]
  }
 ],
 "metadata": {
  "kernelspec": {
   "display_name": "Python 3.10.7 64-bit",
   "language": "python",
   "name": "python3"
  },
  "language_info": {
   "codemirror_mode": {
    "name": "ipython",
    "version": 3
   },
   "file_extension": ".py",
   "mimetype": "text/x-python",
   "name": "python",
   "nbconvert_exporter": "python",
   "pygments_lexer": "ipython3",
   "version": "3.10.7"
  },
  "vscode": {
   "interpreter": {
    "hash": "aee8b7b246df8f9039afb4144a1f6fd8d2ca17a180786b69acc140d282b71a49"
   }
  }
 },
 "nbformat": 4,
 "nbformat_minor": 2
}

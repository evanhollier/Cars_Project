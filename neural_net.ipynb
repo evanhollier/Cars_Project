{
 "cells": [
  {
   "cell_type": "code",
   "execution_count": 183,
   "metadata": {},
   "outputs": [],
   "source": [
    "import datetime\n",
    "import ast\n",
    "import json\n",
    "from collections import Counter\n",
    "\n",
    "import numpy as np\n",
    "import pandas as pd\n",
    "import string\n",
    "import re\n",
    "\n",
    "import matplotlib.pyplot as plt\n",
    "import seaborn as sns\n",
    "%matplotlib inline\n",
    "\n",
    "#from sklearn.model_selection import train_test_split\n",
    "#from sklearn.ensemble import RandomForestRegressor\n",
    "\n",
    "import tensorflow as tf\n",
    "from tensorflow import keras\n",
    "import pandas as pd\n",
    "import torch\n",
    "import torch.nn as nn\n",
    "import torch.optim as optim\n",
    "from torch.utils.data import DataLoader, TensorDataset\n",
    "from sklearn.preprocessing import StandardScaler\n",
    "import numpy as np\n",
    "import matplotlib.pyplot as plt\n",
    "from keras.models import Sequential, Model\n",
    "from keras.layers import Input, Embedding, Flatten, Dense, concatenate\n",
    "from sklearn.model_selection import train_test_split"
   ]
  },
  {
   "cell_type": "code",
   "execution_count": 184,
   "metadata": {},
   "outputs": [],
   "source": [
    "df = pd.read_csv('new_cars.csv')"
   ]
  },
  {
   "cell_type": "code",
   "execution_count": 185,
   "metadata": {},
   "outputs": [],
   "source": [
    "### Drop unncessary columns\n",
    "columns_to_drop = ['link', 'stock_number', 'vin', 'deal_gauge', 'exterior_color', 'mpg', 'fuel_type', 'engine', 'price_history', 'vehicle_history', 'listing_title', 'interior_color', 'Open recall', 'Accidents or damage']\n",
    "# add interior_color back once normalized\n",
    "# add Open recall back once cleaned\n",
    "# add Accidents or damage back once cleaned\n",
    "df = df.drop(columns=columns_to_drop)"
   ]
  },
  {
   "cell_type": "code",
   "execution_count": 186,
   "metadata": {},
   "outputs": [],
   "source": [
    "### Convert data types\n",
    "boolean_columns = ['1-owner vehicle', 'Personal use only', 'Clean title']\n",
    "\n",
    "for column in boolean_columns:\n",
    "    df[column] = df[column].map({'Yes': True, 'No': False}).astype(bool)"
   ]
  },
  {
   "cell_type": "code",
   "execution_count": 187,
   "metadata": {},
   "outputs": [
    {
     "name": "stdout",
     "output_type": "stream",
     "text": [
      "seller_name                  45\n",
      "listed_date                1523\n",
      "price_change               1523\n",
      "price_change_percentage    1523\n",
      "Cylinders                    74\n",
      "Liters                      106\n",
      "exterior_color_1            243\n",
      "exterior_color_2           5990\n",
      "low mpg                     427\n",
      "high mpg                    427\n",
      "dtype: int64\n"
     ]
    }
   ],
   "source": [
    "# Check for NAs\n",
    "missing_counts = df.isna().sum()\n",
    "print(missing_counts[missing_counts > 0])"
   ]
  },
  {
   "cell_type": "code",
   "execution_count": 188,
   "metadata": {},
   "outputs": [],
   "source": [
    "# Drop rows with a low number of missing values\n",
    "columns_with_missing_values = ['seller_name', 'Cylinders', 'Liters', 'exterior_color_1', 'low mpg', 'high mpg']\n",
    "df = df.dropna(subset=columns_with_missing_values)\n",
    "\n",
    "# Drop exterior_color_2 since it only has 12 values\n",
    "df = df.drop(columns=['exterior_color_2'])"
   ]
  },
  {
   "cell_type": "code",
   "execution_count": 189,
   "metadata": {},
   "outputs": [],
   "source": [
    "# Drop missing price history data. ~25% of data.\n",
    "columns_with_missing_values = ['listed_date', 'price_change', 'price_change_percentage']\n",
    "df = df.dropna(subset=columns_with_missing_values)"
   ]
  },
  {
   "cell_type": "code",
   "execution_count": 190,
   "metadata": {},
   "outputs": [
    {
     "data": {
      "text/html": [
       "<div>\n",
       "<style scoped>\n",
       "    .dataframe tbody tr th:only-of-type {\n",
       "        vertical-align: middle;\n",
       "    }\n",
       "\n",
       "    .dataframe tbody tr th {\n",
       "        vertical-align: top;\n",
       "    }\n",
       "\n",
       "    .dataframe thead th {\n",
       "        text-align: right;\n",
       "    }\n",
       "</style>\n",
       "<table border=\"1\" class=\"dataframe\">\n",
       "  <thead>\n",
       "    <tr style=\"text-align: right;\">\n",
       "      <th></th>\n",
       "      <th>listing_mileage</th>\n",
       "      <th>primary_price</th>\n",
       "      <th>drivetrain</th>\n",
       "      <th>transmission</th>\n",
       "      <th>seller_name</th>\n",
       "      <th>1-owner vehicle</th>\n",
       "      <th>Personal use only</th>\n",
       "      <th>Clean title</th>\n",
       "      <th>year</th>\n",
       "      <th>make</th>\n",
       "      <th>model</th>\n",
       "      <th>listed_date</th>\n",
       "      <th>price_change</th>\n",
       "      <th>price_change_percentage</th>\n",
       "      <th>Cylinders</th>\n",
       "      <th>Liters</th>\n",
       "      <th>Boosted</th>\n",
       "      <th>exterior_color_1</th>\n",
       "      <th>low mpg</th>\n",
       "      <th>high mpg</th>\n",
       "    </tr>\n",
       "  </thead>\n",
       "  <tbody>\n",
       "    <tr>\n",
       "      <th>0</th>\n",
       "      <td>79497</td>\n",
       "      <td>17899</td>\n",
       "      <td>Front-wheel Drive</td>\n",
       "      <td>6-Speed Automatic</td>\n",
       "      <td>ETHIO Motors</td>\n",
       "      <td>True</td>\n",
       "      <td>False</td>\n",
       "      <td>True</td>\n",
       "      <td>2018</td>\n",
       "      <td>Hyundai</td>\n",
       "      <td>Santa Fe Sport 2.4L</td>\n",
       "      <td>2021-09-21</td>\n",
       "      <td>-2400.0</td>\n",
       "      <td>-11.823243</td>\n",
       "      <td>4.0</td>\n",
       "      <td>2.4</td>\n",
       "      <td>False</td>\n",
       "      <td>blue</td>\n",
       "      <td>21.0</td>\n",
       "      <td>27.0</td>\n",
       "    </tr>\n",
       "    <tr>\n",
       "      <th>1</th>\n",
       "      <td>80326</td>\n",
       "      <td>27900</td>\n",
       "      <td>Four-wheel Drive</td>\n",
       "      <td>8-Speed Automatic</td>\n",
       "      <td>Custom Cars West</td>\n",
       "      <td>False</td>\n",
       "      <td>True</td>\n",
       "      <td>True</td>\n",
       "      <td>2017</td>\n",
       "      <td>RAM</td>\n",
       "      <td>1500 Express</td>\n",
       "      <td>2022-03-15</td>\n",
       "      <td>-3085.0</td>\n",
       "      <td>-9.956431</td>\n",
       "      <td>8.0</td>\n",
       "      <td>5.7</td>\n",
       "      <td>False</td>\n",
       "      <td>silver</td>\n",
       "      <td>16.0</td>\n",
       "      <td>23.0</td>\n",
       "    </tr>\n",
       "    <tr>\n",
       "      <th>2</th>\n",
       "      <td>92959</td>\n",
       "      <td>18950</td>\n",
       "      <td>Front-wheel Drive</td>\n",
       "      <td>Automatic CVT</td>\n",
       "      <td>Custom Cars West</td>\n",
       "      <td>False</td>\n",
       "      <td>True</td>\n",
       "      <td>True</td>\n",
       "      <td>2019</td>\n",
       "      <td>Nissan</td>\n",
       "      <td>Kicks SR</td>\n",
       "      <td>2022-04-16</td>\n",
       "      <td>-1030.0</td>\n",
       "      <td>-5.155155</td>\n",
       "      <td>4.0</td>\n",
       "      <td>1.6</td>\n",
       "      <td>False</td>\n",
       "      <td>orange</td>\n",
       "      <td>31.0</td>\n",
       "      <td>36.0</td>\n",
       "    </tr>\n",
       "    <tr>\n",
       "      <th>3</th>\n",
       "      <td>59176</td>\n",
       "      <td>39950</td>\n",
       "      <td>Four-wheel Drive</td>\n",
       "      <td>8-Speed Automatic</td>\n",
       "      <td>Custom Cars West</td>\n",
       "      <td>False</td>\n",
       "      <td>False</td>\n",
       "      <td>True</td>\n",
       "      <td>2019</td>\n",
       "      <td>RAM</td>\n",
       "      <td>1500 Laramie</td>\n",
       "      <td>2022-06-01</td>\n",
       "      <td>-573.0</td>\n",
       "      <td>-1.414012</td>\n",
       "      <td>8.0</td>\n",
       "      <td>5.7</td>\n",
       "      <td>False</td>\n",
       "      <td>gray</td>\n",
       "      <td>19.0</td>\n",
       "      <td>24.0</td>\n",
       "    </tr>\n",
       "    <tr>\n",
       "      <th>4</th>\n",
       "      <td>135385</td>\n",
       "      <td>26950</td>\n",
       "      <td>Four-wheel Drive</td>\n",
       "      <td>-</td>\n",
       "      <td>Custom Cars West</td>\n",
       "      <td>False</td>\n",
       "      <td>True</td>\n",
       "      <td>True</td>\n",
       "      <td>2015</td>\n",
       "      <td>Jeep</td>\n",
       "      <td>Wrangler Unlimited Rubicon</td>\n",
       "      <td>2022-01-21</td>\n",
       "      <td>-3000.0</td>\n",
       "      <td>-10.016694</td>\n",
       "      <td>6.0</td>\n",
       "      <td>3.6</td>\n",
       "      <td>False</td>\n",
       "      <td>blue</td>\n",
       "      <td>16.0</td>\n",
       "      <td>21.0</td>\n",
       "    </tr>\n",
       "  </tbody>\n",
       "</table>\n",
       "</div>"
      ],
      "text/plain": [
       "   listing_mileage  primary_price         drivetrain       transmission  \\\n",
       "0            79497          17899  Front-wheel Drive  6-Speed Automatic   \n",
       "1            80326          27900   Four-wheel Drive  8-Speed Automatic   \n",
       "2            92959          18950  Front-wheel Drive      Automatic CVT   \n",
       "3            59176          39950   Four-wheel Drive  8-Speed Automatic   \n",
       "4           135385          26950   Four-wheel Drive                  -   \n",
       "\n",
       "        seller_name  1-owner vehicle  Personal use only  Clean title  year  \\\n",
       "0      ETHIO Motors             True              False         True  2018   \n",
       "1  Custom Cars West            False               True         True  2017   \n",
       "2  Custom Cars West            False               True         True  2019   \n",
       "3  Custom Cars West            False              False         True  2019   \n",
       "4  Custom Cars West            False               True         True  2015   \n",
       "\n",
       "      make                       model listed_date  price_change  \\\n",
       "0  Hyundai         Santa Fe Sport 2.4L  2021-09-21       -2400.0   \n",
       "1      RAM                1500 Express  2022-03-15       -3085.0   \n",
       "2   Nissan                    Kicks SR  2022-04-16       -1030.0   \n",
       "3      RAM                1500 Laramie  2022-06-01        -573.0   \n",
       "4     Jeep  Wrangler Unlimited Rubicon  2022-01-21       -3000.0   \n",
       "\n",
       "   price_change_percentage  Cylinders  Liters  Boosted exterior_color_1  \\\n",
       "0               -11.823243        4.0     2.4    False             blue   \n",
       "1                -9.956431        8.0     5.7    False           silver   \n",
       "2                -5.155155        4.0     1.6    False           orange   \n",
       "3                -1.414012        8.0     5.7    False             gray   \n",
       "4               -10.016694        6.0     3.6    False             blue   \n",
       "\n",
       "   low mpg  high mpg  \n",
       "0     21.0      27.0  \n",
       "1     16.0      23.0  \n",
       "2     31.0      36.0  \n",
       "3     19.0      24.0  \n",
       "4     16.0      21.0  "
      ]
     },
     "execution_count": 190,
     "metadata": {},
     "output_type": "execute_result"
    }
   ],
   "source": [
    "df.head()"
   ]
  },
  {
   "cell_type": "code",
   "execution_count": 191,
   "metadata": {},
   "outputs": [
    {
     "data": {
      "text/plain": [
       "(3860, 20)"
      ]
     },
     "execution_count": 191,
     "metadata": {},
     "output_type": "execute_result"
    }
   ],
   "source": [
    "df.shape"
   ]
  },
  {
   "cell_type": "markdown",
   "metadata": {},
   "source": [
    "## DNN\n",
    "### outcome variable: primary_price\n",
    "### ocluded variables: price_change\tprice_change_percentage"
   ]
  },
  {
   "cell_type": "code",
   "execution_count": 192,
   "metadata": {},
   "outputs": [],
   "source": [
    "# Drop 'price_change' and 'price_change_percentage' to avoid data leakage\n",
    "columns_to_drop = ['price_change', 'price_change_percentage']\n",
    "df = df.drop(columns=columns_to_drop)"
   ]
  },
  {
   "cell_type": "markdown",
   "metadata": {},
   "source": [
    "## Categorical variables"
   ]
  },
  {
   "cell_type": "code",
   "execution_count": 193,
   "metadata": {},
   "outputs": [
    {
     "name": "stdout",
     "output_type": "stream",
     "text": [
      "Unique values for drivetrain: 6\n",
      "Unique values for transmission: 83\n",
      "Unique values for make: 47\n",
      "Unique values for model: 1405\n",
      "Unique values for exterior_color_1: 13\n"
     ]
    }
   ],
   "source": [
    "categorical_columns = ['drivetrain', 'transmission', 'make', 'model', 'exterior_color_1']\n",
    "\n",
    "# Check how many unique values there are in categorical_columns\n",
    "for column in categorical_columns:\n",
    "    unique_values = df[column].nunique()\n",
    "    print(f\"Unique values for {column}:\", unique_values)\n",
    "\n",
    "# Models has a large number of unique values\n",
    "# transmission, make, model have a large number of unique values\n",
    "# Consider embedding these instead of one-hot encode"
   ]
  },
  {
   "cell_type": "code",
   "execution_count": 194,
   "metadata": {},
   "outputs": [],
   "source": [
    "X = df.drop('primary_price', axis=1)  # Features\n",
    "y = df['primary_price']  # Target"
   ]
  },
  {
   "cell_type": "code",
   "execution_count": 195,
   "metadata": {},
   "outputs": [],
   "source": [
    "### One-hot Encode \n",
    "X = pd.get_dummies(X, columns=categorical_columns)"
   ]
  },
  {
   "cell_type": "code",
   "execution_count": 196,
   "metadata": {},
   "outputs": [
    {
     "data": {
      "text/plain": [
       "(3860, 1566)"
      ]
     },
     "execution_count": 196,
     "metadata": {},
     "output_type": "execute_result"
    }
   ],
   "source": [
    "X.shape"
   ]
  },
  {
   "cell_type": "markdown",
   "metadata": {},
   "source": [
    "## Split data into 80% training set and 20% validation set."
   ]
  },
  {
   "cell_type": "code",
   "execution_count": 197,
   "metadata": {},
   "outputs": [
    {
     "ename": "TypeError",
     "evalue": "can't convert np.ndarray of type numpy.object_. The only supported types are: float64, float32, float16, complex64, complex128, int64, int32, int16, int8, uint8, and bool.",
     "output_type": "error",
     "traceback": [
      "\u001b[1;31m---------------------------------------------------------------------------\u001b[0m",
      "\u001b[1;31mTypeError\u001b[0m                                 Traceback (most recent call last)",
      "\u001b[1;32m~\\AppData\\Local\\Temp/ipykernel_16028/1116414700.py\u001b[0m in \u001b[0;36m<module>\u001b[1;34m\u001b[0m\n\u001b[0;32m      8\u001b[0m \u001b[0my_val\u001b[0m \u001b[1;33m=\u001b[0m \u001b[0my_val\u001b[0m\u001b[1;33m.\u001b[0m\u001b[0mto_numpy\u001b[0m\u001b[1;33m(\u001b[0m\u001b[1;33m)\u001b[0m\u001b[1;33m\u001b[0m\u001b[1;33m\u001b[0m\u001b[0m\n\u001b[0;32m      9\u001b[0m \u001b[1;33m\u001b[0m\u001b[0m\n\u001b[1;32m---> 10\u001b[1;33m \u001b[0mX_train\u001b[0m \u001b[1;33m=\u001b[0m \u001b[0mtorch\u001b[0m\u001b[1;33m.\u001b[0m\u001b[0mtensor\u001b[0m\u001b[1;33m(\u001b[0m\u001b[0mX_train\u001b[0m\u001b[1;33m,\u001b[0m \u001b[0mdtype\u001b[0m\u001b[1;33m=\u001b[0m\u001b[0mtorch\u001b[0m\u001b[1;33m.\u001b[0m\u001b[0mfloat32\u001b[0m\u001b[1;33m)\u001b[0m\u001b[1;33m\u001b[0m\u001b[1;33m\u001b[0m\u001b[0m\n\u001b[0m\u001b[0;32m     11\u001b[0m \u001b[0mX_val\u001b[0m \u001b[1;33m=\u001b[0m \u001b[0mtorch\u001b[0m\u001b[1;33m.\u001b[0m\u001b[0mtensor\u001b[0m\u001b[1;33m(\u001b[0m\u001b[0mX_val\u001b[0m\u001b[1;33m,\u001b[0m \u001b[0mdtype\u001b[0m\u001b[1;33m=\u001b[0m\u001b[0mtorch\u001b[0m\u001b[1;33m.\u001b[0m\u001b[0mfloat32\u001b[0m\u001b[1;33m)\u001b[0m\u001b[1;33m\u001b[0m\u001b[1;33m\u001b[0m\u001b[0m\n\u001b[0;32m     12\u001b[0m \u001b[0my_train\u001b[0m \u001b[1;33m=\u001b[0m \u001b[0mtorch\u001b[0m\u001b[1;33m.\u001b[0m\u001b[0mtensor\u001b[0m\u001b[1;33m(\u001b[0m\u001b[0my_train\u001b[0m\u001b[1;33m,\u001b[0m \u001b[0mdtype\u001b[0m\u001b[1;33m=\u001b[0m\u001b[0mtorch\u001b[0m\u001b[1;33m.\u001b[0m\u001b[0mlong\u001b[0m\u001b[1;33m)\u001b[0m\u001b[1;33m\u001b[0m\u001b[1;33m\u001b[0m\u001b[0m\n",
      "\u001b[1;31mTypeError\u001b[0m: can't convert np.ndarray of type numpy.object_. The only supported types are: float64, float32, float16, complex64, complex128, int64, int32, int16, int8, uint8, and bool."
     ]
    }
   ],
   "source": [
    "# Split the data into training and validation sets\n",
    "X_train, X_val, y_train, y_val = train_test_split(X, y, test_size=0.2, random_state=42)\n",
    "\n",
    "# Convert data\n",
    "X_train = X_train.to_numpy()\n",
    "X_val = X_val.to_numpy()\n",
    "y_train = y_train.to_numpy()\n",
    "y_val = y_val.to_numpy()\n",
    "\n",
    "# X_train = torch.tensor(X_train, dtype=torch.float32)\n",
    "# X_val = torch.tensor(X_val, dtype=torch.float32)\n",
    "# y_train = torch.tensor(y_train, dtype=torch.long)\n",
    "# y_val = torch.tensor(y_val, dtype=torch.long)"
   ]
  }
 ],
 "metadata": {
  "kernelspec": {
   "display_name": "Python 3",
   "language": "python",
   "name": "python3"
  },
  "language_info": {
   "codemirror_mode": {
    "name": "ipython",
    "version": 3
   },
   "file_extension": ".py",
   "mimetype": "text/x-python",
   "name": "python",
   "nbconvert_exporter": "python",
   "pygments_lexer": "ipython3",
   "version": "3.10.7"
  }
 },
 "nbformat": 4,
 "nbformat_minor": 2
}
